{
  "cells": [
    {
      "cell_type": "markdown",
      "metadata": {
        "id": "view-in-github",
        "colab_type": "text"
      },
      "source": [
        "<a href=\"https://colab.research.google.com/github/prajeet26/Check-That-Asatya/blob/main/CheckThat_Asatya.ipynb\" target=\"_parent\"><img src=\"https://colab.research.google.com/assets/colab-badge.svg\" alt=\"Open In Colab\"/></a>"
      ]
    },
    {
      "cell_type": "markdown",
      "metadata": {
        "id": "VwK5-9FIB-lu"
      },
      "source": [
        "# Natural Language Processing using CNN"
      ]
    },
    {
      "cell_type": "markdown",
      "metadata": {
        "id": "X1kiO9kACE6s"
      },
      "source": [
        "## Importing the libraries"
      ]
    },
    {
      "cell_type": "code",
      "execution_count": null,
      "metadata": {
        "id": "7QG7sxmoCIvN"
      },
      "outputs": [],
      "source": [
        "import numpy as np\n",
        "import matplotlib.pyplot as plt\n",
        "import pandas as pd\n"
      ]
    },
    {
      "cell_type": "code",
      "execution_count": null,
      "metadata": {
        "id": "Giqu6E_BvF1a"
      },
      "outputs": [],
      "source": [
        "final_dataset = pd.read_csv('/content/task1atrain (1).csv')"
      ]
    },
    {
      "cell_type": "code",
      "execution_count": null,
      "metadata": {
        "id": "80liiuBXvLyI"
      },
      "outputs": [],
      "source": [
        "trainfile = pd.read_csv('/content/CT22_english_1B_claim_train.tsv', delimiter = '\\t')"
      ]
    },
    {
      "cell_type": "code",
      "execution_count": null,
      "metadata": {
        "id": "79eVoFZVviz2"
      },
      "outputs": [],
      "source": [
        "new_dataset = pd.merge(final_dataset.drop('class_label', axis=1), \n",
        "                trainfile.reset_index(), \n",
        "                left_on=['tweet_id'], \n",
        "                right_on=['tweet_id'], \n",
        "                how='left',\n",
        "                indicator=True\n",
        "                )"
      ]
    },
    {
      "cell_type": "code",
      "execution_count": null,
      "metadata": {
        "id": "ZmPEXLSMxBw0"
      },
      "outputs": [],
      "source": [
        "new_dataset = new_dataset.drop(['Unnamed: 0','Unnamed: 0.1','Unnamed: 0.1.1', 'Unnamed: 0.1.1.1'], axis=1)"
      ]
    },
    {
      "cell_type": "code",
      "execution_count": null,
      "metadata": {
        "colab": {
          "base_uri": "https://localhost:8080/",
          "height": 364
        },
        "id": "72DRXpL1zqLo",
        "outputId": "26aa72a7-ce73-4523-d1c3-c85639b14e84"
      },
      "outputs": [
        {
          "data": {
            "text/html": [
              "\n",
              "  <div id=\"df-8ce9a108-c49f-4349-a761-952e8e20897a\">\n",
              "    <div class=\"colab-df-container\">\n",
              "      <div>\n",
              "<style scoped>\n",
              "    .dataframe tbody tr th:only-of-type {\n",
              "        vertical-align: middle;\n",
              "    }\n",
              "\n",
              "    .dataframe tbody tr th {\n",
              "        vertical-align: top;\n",
              "    }\n",
              "\n",
              "    .dataframe thead th {\n",
              "        text-align: right;\n",
              "    }\n",
              "</style>\n",
              "<table border=\"1\" class=\"dataframe\">\n",
              "  <thead>\n",
              "    <tr style=\"text-align: right;\">\n",
              "      <th></th>\n",
              "      <th>tweet_id</th>\n",
              "      <th>followers</th>\n",
              "      <th>following</th>\n",
              "      <th>posts</th>\n",
              "      <th>likes</th>\n",
              "      <th>rts</th>\n",
              "      <th>verified</th>\n",
              "      <th>url</th>\n",
              "      <th>index</th>\n",
              "      <th>class_label</th>\n",
              "    </tr>\n",
              "  </thead>\n",
              "  <tbody>\n",
              "    <tr>\n",
              "      <th>count</th>\n",
              "      <td>4.916000e+03</td>\n",
              "      <td>4.916000e+03</td>\n",
              "      <td>4916.000000</td>\n",
              "      <td>4.916000e+03</td>\n",
              "      <td>4916.000000</td>\n",
              "      <td>4916.000000</td>\n",
              "      <td>4916.000000</td>\n",
              "      <td>4916.000000</td>\n",
              "      <td>2035.000000</td>\n",
              "      <td>2035.0</td>\n",
              "    </tr>\n",
              "    <tr>\n",
              "      <th>mean</th>\n",
              "      <td>1.299302e+18</td>\n",
              "      <td>5.518350e+05</td>\n",
              "      <td>2271.831977</td>\n",
              "      <td>6.749403e+04</td>\n",
              "      <td>2197.929821</td>\n",
              "      <td>584.363303</td>\n",
              "      <td>0.264036</td>\n",
              "      <td>0.891172</td>\n",
              "      <td>1855.464865</td>\n",
              "      <td>1.0</td>\n",
              "    </tr>\n",
              "    <tr>\n",
              "      <th>std</th>\n",
              "      <td>5.518573e+16</td>\n",
              "      <td>4.000612e+06</td>\n",
              "      <td>13130.563156</td>\n",
              "      <td>1.496564e+05</td>\n",
              "      <td>22223.516319</td>\n",
              "      <td>5556.506148</td>\n",
              "      <td>0.440863</td>\n",
              "      <td>0.311455</td>\n",
              "      <td>942.001406</td>\n",
              "      <td>0.0</td>\n",
              "    </tr>\n",
              "    <tr>\n",
              "      <th>min</th>\n",
              "      <td>1.224045e+18</td>\n",
              "      <td>0.000000e+00</td>\n",
              "      <td>0.000000</td>\n",
              "      <td>0.000000e+00</td>\n",
              "      <td>0.000000</td>\n",
              "      <td>0.000000</td>\n",
              "      <td>0.000000</td>\n",
              "      <td>0.000000</td>\n",
              "      <td>0.000000</td>\n",
              "      <td>1.0</td>\n",
              "    </tr>\n",
              "    <tr>\n",
              "      <th>25%</th>\n",
              "      <td>1.249173e+18</td>\n",
              "      <td>2.730000e+02</td>\n",
              "      <td>104.000000</td>\n",
              "      <td>4.792000e+03</td>\n",
              "      <td>0.000000</td>\n",
              "      <td>0.000000</td>\n",
              "      <td>0.000000</td>\n",
              "      <td>1.000000</td>\n",
              "      <td>1081.000000</td>\n",
              "      <td>1.0</td>\n",
              "    </tr>\n",
              "    <tr>\n",
              "      <th>50%</th>\n",
              "      <td>1.277740e+18</td>\n",
              "      <td>2.401000e+03</td>\n",
              "      <td>504.500000</td>\n",
              "      <td>1.983050e+04</td>\n",
              "      <td>1.000000</td>\n",
              "      <td>1.000000</td>\n",
              "      <td>0.000000</td>\n",
              "      <td>1.000000</td>\n",
              "      <td>2058.000000</td>\n",
              "      <td>1.0</td>\n",
              "    </tr>\n",
              "    <tr>\n",
              "      <th>75%</th>\n",
              "      <td>1.368970e+18</td>\n",
              "      <td>2.433000e+04</td>\n",
              "      <td>1585.500000</td>\n",
              "      <td>6.410400e+04</td>\n",
              "      <td>14.000000</td>\n",
              "      <td>5.000000</td>\n",
              "      <td>1.000000</td>\n",
              "      <td>1.000000</td>\n",
              "      <td>2608.500000</td>\n",
              "      <td>1.0</td>\n",
              "    </tr>\n",
              "    <tr>\n",
              "      <th>max</th>\n",
              "      <td>1.371129e+18</td>\n",
              "      <td>7.829962e+07</td>\n",
              "      <td>587749.000000</td>\n",
              "      <td>1.701491e+06</td>\n",
              "      <td>658689.000000</td>\n",
              "      <td>124655.000000</td>\n",
              "      <td>1.000000</td>\n",
              "      <td>1.000000</td>\n",
              "      <td>3323.000000</td>\n",
              "      <td>1.0</td>\n",
              "    </tr>\n",
              "  </tbody>\n",
              "</table>\n",
              "</div>\n",
              "      <button class=\"colab-df-convert\" onclick=\"convertToInteractive('df-8ce9a108-c49f-4349-a761-952e8e20897a')\"\n",
              "              title=\"Convert this dataframe to an interactive table.\"\n",
              "              style=\"display:none;\">\n",
              "        \n",
              "  <svg xmlns=\"http://www.w3.org/2000/svg\" height=\"24px\"viewBox=\"0 0 24 24\"\n",
              "       width=\"24px\">\n",
              "    <path d=\"M0 0h24v24H0V0z\" fill=\"none\"/>\n",
              "    <path d=\"M18.56 5.44l.94 2.06.94-2.06 2.06-.94-2.06-.94-.94-2.06-.94 2.06-2.06.94zm-11 1L8.5 8.5l.94-2.06 2.06-.94-2.06-.94L8.5 2.5l-.94 2.06-2.06.94zm10 10l.94 2.06.94-2.06 2.06-.94-2.06-.94-.94-2.06-.94 2.06-2.06.94z\"/><path d=\"M17.41 7.96l-1.37-1.37c-.4-.4-.92-.59-1.43-.59-.52 0-1.04.2-1.43.59L10.3 9.45l-7.72 7.72c-.78.78-.78 2.05 0 2.83L4 21.41c.39.39.9.59 1.41.59.51 0 1.02-.2 1.41-.59l7.78-7.78 2.81-2.81c.8-.78.8-2.07 0-2.86zM5.41 20L4 18.59l7.72-7.72 1.47 1.35L5.41 20z\"/>\n",
              "  </svg>\n",
              "      </button>\n",
              "      \n",
              "  <style>\n",
              "    .colab-df-container {\n",
              "      display:flex;\n",
              "      flex-wrap:wrap;\n",
              "      gap: 12px;\n",
              "    }\n",
              "\n",
              "    .colab-df-convert {\n",
              "      background-color: #E8F0FE;\n",
              "      border: none;\n",
              "      border-radius: 50%;\n",
              "      cursor: pointer;\n",
              "      display: none;\n",
              "      fill: #1967D2;\n",
              "      height: 32px;\n",
              "      padding: 0 0 0 0;\n",
              "      width: 32px;\n",
              "    }\n",
              "\n",
              "    .colab-df-convert:hover {\n",
              "      background-color: #E2EBFA;\n",
              "      box-shadow: 0px 1px 2px rgba(60, 64, 67, 0.3), 0px 1px 3px 1px rgba(60, 64, 67, 0.15);\n",
              "      fill: #174EA6;\n",
              "    }\n",
              "\n",
              "    [theme=dark] .colab-df-convert {\n",
              "      background-color: #3B4455;\n",
              "      fill: #D2E3FC;\n",
              "    }\n",
              "\n",
              "    [theme=dark] .colab-df-convert:hover {\n",
              "      background-color: #434B5C;\n",
              "      box-shadow: 0px 1px 3px 1px rgba(0, 0, 0, 0.15);\n",
              "      filter: drop-shadow(0px 1px 2px rgba(0, 0, 0, 0.3));\n",
              "      fill: #FFFFFF;\n",
              "    }\n",
              "  </style>\n",
              "\n",
              "      <script>\n",
              "        const buttonEl =\n",
              "          document.querySelector('#df-8ce9a108-c49f-4349-a761-952e8e20897a button.colab-df-convert');\n",
              "        buttonEl.style.display =\n",
              "          google.colab.kernel.accessAllowed ? 'block' : 'none';\n",
              "\n",
              "        async function convertToInteractive(key) {\n",
              "          const element = document.querySelector('#df-8ce9a108-c49f-4349-a761-952e8e20897a');\n",
              "          const dataTable =\n",
              "            await google.colab.kernel.invokeFunction('convertToInteractive',\n",
              "                                                     [key], {});\n",
              "          if (!dataTable) return;\n",
              "\n",
              "          const docLinkHtml = 'Like what you see? Visit the ' +\n",
              "            '<a target=\"_blank\" href=https://colab.research.google.com/notebooks/data_table.ipynb>data table notebook</a>'\n",
              "            + ' to learn more about interactive tables.';\n",
              "          element.innerHTML = '';\n",
              "          dataTable['output_type'] = 'display_data';\n",
              "          await google.colab.output.renderOutput(dataTable, element);\n",
              "          const docLink = document.createElement('div');\n",
              "          docLink.innerHTML = docLinkHtml;\n",
              "          element.appendChild(docLink);\n",
              "        }\n",
              "      </script>\n",
              "    </div>\n",
              "  </div>\n",
              "  "
            ],
            "text/plain": [
              "           tweet_id     followers      following         posts          likes  \\\n",
              "count  4.916000e+03  4.916000e+03    4916.000000  4.916000e+03    4916.000000   \n",
              "mean   1.299302e+18  5.518350e+05    2271.831977  6.749403e+04    2197.929821   \n",
              "std    5.518573e+16  4.000612e+06   13130.563156  1.496564e+05   22223.516319   \n",
              "min    1.224045e+18  0.000000e+00       0.000000  0.000000e+00       0.000000   \n",
              "25%    1.249173e+18  2.730000e+02     104.000000  4.792000e+03       0.000000   \n",
              "50%    1.277740e+18  2.401000e+03     504.500000  1.983050e+04       1.000000   \n",
              "75%    1.368970e+18  2.433000e+04    1585.500000  6.410400e+04      14.000000   \n",
              "max    1.371129e+18  7.829962e+07  587749.000000  1.701491e+06  658689.000000   \n",
              "\n",
              "                 rts     verified          url        index  class_label  \n",
              "count    4916.000000  4916.000000  4916.000000  2035.000000       2035.0  \n",
              "mean      584.363303     0.264036     0.891172  1855.464865          1.0  \n",
              "std      5556.506148     0.440863     0.311455   942.001406          0.0  \n",
              "min         0.000000     0.000000     0.000000     0.000000          1.0  \n",
              "25%         0.000000     0.000000     1.000000  1081.000000          1.0  \n",
              "50%         1.000000     0.000000     1.000000  2058.000000          1.0  \n",
              "75%         5.000000     1.000000     1.000000  2608.500000          1.0  \n",
              "max    124655.000000     1.000000     1.000000  3323.000000          1.0  "
            ]
          },
          "execution_count": 20,
          "metadata": {},
          "output_type": "execute_result"
        }
      ],
      "source": [
        "new_dataset.describe()"
      ]
    },
    {
      "cell_type": "code",
      "execution_count": null,
      "metadata": {
        "colab": {
          "base_uri": "https://localhost:8080/"
        },
        "id": "J3UphMQezwpb",
        "outputId": "63b5041b-d410-4178-d018-16320ba4370b"
      },
      "outputs": [
        {
          "data": {
            "text/plain": [
              "3324"
            ]
          },
          "execution_count": 30,
          "metadata": {},
          "output_type": "execute_result"
        }
      ],
      "source": [
        "len(trainfile3) \n",
        "len(trainfile)"
      ]
    },
    {
      "cell_type": "code",
      "execution_count": null,
      "metadata": {
        "id": "e4ZXMtMO0CEO"
      },
      "outputs": [],
      "source": [
        "trainfile2 = pd.read_csv('/content/CT22_dutch_1B_claim_train.tsv', delimiter = '\\t')"
      ]
    },
    {
      "cell_type": "code",
      "execution_count": null,
      "metadata": {
        "colab": {
          "base_uri": "https://localhost:8080/"
        },
        "id": "UByZNDDn1fhO",
        "outputId": "92e1a9df-4457-4bb8-e482-6c366f643122"
      },
      "outputs": [
        {
          "data": {
            "text/plain": [
              "Index(['topic_x', 'tweet_id', 'tweet_url_x', 'tweet_text_x', 'followers',\n",
              "       'following', 'posts', 'likes', 'rts', 'verified', 'url', 'index',\n",
              "       'topic_y', 'tweet_url_y', 'tweet_text_y', 'class_label', '_merge'],\n",
              "      dtype='object')"
            ]
          },
          "execution_count": 34,
          "metadata": {},
          "output_type": "execute_result"
        }
      ],
      "source": [
        "new_dataset.columns"
      ]
    },
    {
      "cell_type": "code",
      "execution_count": null,
      "metadata": {
        "id": "Q_F_V4N71RkI"
      },
      "outputs": [],
      "source": [
        "new_dataset = pd.merge(new_dataset.drop(['_merge'], axis=1), \n",
        "                trainfile2.reset_index(), \n",
        "                left_on=['tweet_id'], \n",
        "                right_on=['tweet_id'], \n",
        "                how='left',\n",
        "                indicator=True\n",
        "                )"
      ]
    },
    {
      "cell_type": "code",
      "execution_count": null,
      "metadata": {
        "id": "3Gd-B07X11Wf"
      },
      "outputs": [],
      "source": [
        "xyz = pd.read_csv('/content/CT22_dutch_1A_checkworthy_train.tsv', delimiter='\\t')"
      ]
    },
    {
      "cell_type": "code",
      "execution_count": null,
      "metadata": {
        "colab": {
          "base_uri": "https://localhost:8080/"
        },
        "id": "KTRQ-tiv2EyP",
        "outputId": "d5a08bd9-d573-441b-9ae1-dfe9ac8d136c"
      },
      "outputs": [
        {
          "data": {
            "text/plain": [
              "1950"
            ]
          },
          "execution_count": 39,
          "metadata": {},
          "output_type": "execute_result"
        }
      ],
      "source": [
        "len(trainfile2)"
      ]
    },
    {
      "cell_type": "code",
      "execution_count": null,
      "metadata": {
        "id": "LU60UOzJ2Yr6"
      },
      "outputs": [],
      "source": [
        "trainfile3 = pd.read_csv('/content/CT22_bulgarian_1B_claim_train.tsv', delimiter='\\t')"
      ]
    },
    {
      "cell_type": "code",
      "execution_count": null,
      "metadata": {
        "colab": {
          "base_uri": "https://localhost:8080/"
        },
        "id": "wnP813E820Ux",
        "outputId": "5b35b8df-f09e-45a7-9f7e-41da2153362b"
      },
      "outputs": [
        {
          "name": "stderr",
          "output_type": "stream",
          "text": [
            "/usr/local/lib/python3.7/dist-packages/ipykernel_launcher.py:6: FutureWarning: Passing 'suffixes' which cause duplicate columns {'topic_x', 'tweet_url_x', 'tweet_text_x'} in the result is deprecated and will raise a MergeError in a future version.\n",
            "  \n"
          ]
        }
      ],
      "source": [
        "new_dataset = pd.merge(new_dataset.drop(['_merge'], axis=1), \n",
        "                trainfile3.reset_index(), \n",
        "                left_on=['tweet_id'], \n",
        "                right_on=['tweet_id'], \n",
        "                how='left',\n",
        "                indicator=True\n",
        "                )"
      ]
    },
    {
      "cell_type": "code",
      "execution_count": null,
      "metadata": {
        "colab": {
          "base_uri": "https://localhost:8080/",
          "height": 595
        },
        "id": "Il7ZhQK31ld7",
        "outputId": "10583c1a-1453-4a46-93d8-b4ffefd79c1b"
      },
      "outputs": [
        {
          "data": {
            "text/html": [
              "\n",
              "  <div id=\"df-ae9d2d4d-5767-47fd-a780-882aa2c6a458\">\n",
              "    <div class=\"colab-df-container\">\n",
              "      <div>\n",
              "<style scoped>\n",
              "    .dataframe tbody tr th:only-of-type {\n",
              "        vertical-align: middle;\n",
              "    }\n",
              "\n",
              "    .dataframe tbody tr th {\n",
              "        vertical-align: top;\n",
              "    }\n",
              "\n",
              "    .dataframe thead th {\n",
              "        text-align: right;\n",
              "    }\n",
              "</style>\n",
              "<table border=\"1\" class=\"dataframe\">\n",
              "  <thead>\n",
              "    <tr style=\"text-align: right;\">\n",
              "      <th></th>\n",
              "      <th>topic_x</th>\n",
              "      <th>tweet_id</th>\n",
              "      <th>tweet_url_x</th>\n",
              "      <th>tweet_text_x</th>\n",
              "      <th>followers</th>\n",
              "      <th>following</th>\n",
              "      <th>posts</th>\n",
              "      <th>likes</th>\n",
              "      <th>rts</th>\n",
              "      <th>verified</th>\n",
              "      <th>...</th>\n",
              "      <th>topic_x</th>\n",
              "      <th>tweet_url_x</th>\n",
              "      <th>tweet_text_x</th>\n",
              "      <th>class_label_y</th>\n",
              "      <th>index</th>\n",
              "      <th>topic_y</th>\n",
              "      <th>tweet_url_y</th>\n",
              "      <th>tweet_text_y</th>\n",
              "      <th>class_label</th>\n",
              "      <th>_merge</th>\n",
              "    </tr>\n",
              "  </thead>\n",
              "  <tbody>\n",
              "    <tr>\n",
              "      <th>0</th>\n",
              "      <td>COVID-19</td>\n",
              "      <td>1.359351e+18</td>\n",
              "      <td>http://twitter.com/user/status/135935094335617...</td>\n",
              "      <td>India's gift ofnumber COVID-19 vaccines arrive...</td>\n",
              "      <td>49449</td>\n",
              "      <td>1155</td>\n",
              "      <td>2495</td>\n",
              "      <td>33325</td>\n",
              "      <td>7962</td>\n",
              "      <td>1</td>\n",
              "      <td>...</td>\n",
              "      <td>NaN</td>\n",
              "      <td>NaN</td>\n",
              "      <td>NaN</td>\n",
              "      <td>NaN</td>\n",
              "      <td>NaN</td>\n",
              "      <td>NaN</td>\n",
              "      <td>NaN</td>\n",
              "      <td>NaN</td>\n",
              "      <td>NaN</td>\n",
              "      <td>left_only</td>\n",
              "    </tr>\n",
              "    <tr>\n",
              "      <th>1</th>\n",
              "      <td>COVID-19</td>\n",
              "      <td>1.370008e+18</td>\n",
              "      <td>http://twitter.com/user/status/137000807648978...</td>\n",
              "      <td>As part of the ongoing nationwide vaccination ...</td>\n",
              "      <td>717219</td>\n",
              "      <td>312</td>\n",
              "      <td>24212</td>\n",
              "      <td>6145</td>\n",
              "      <td>1717</td>\n",
              "      <td>1</td>\n",
              "      <td>...</td>\n",
              "      <td>NaN</td>\n",
              "      <td>NaN</td>\n",
              "      <td>NaN</td>\n",
              "      <td>NaN</td>\n",
              "      <td>NaN</td>\n",
              "      <td>NaN</td>\n",
              "      <td>NaN</td>\n",
              "      <td>NaN</td>\n",
              "      <td>NaN</td>\n",
              "      <td>left_only</td>\n",
              "    </tr>\n",
              "    <tr>\n",
              "      <th>2</th>\n",
              "      <td>COVID-19</td>\n",
              "      <td>1.367727e+18</td>\n",
              "      <td>http://twitter.com/user/status/136772673004420...</td>\n",
              "      <td>Pleased to receivenumber doses of Covid-19 vac...</td>\n",
              "      <td>92110</td>\n",
              "      <td>509</td>\n",
              "      <td>2782</td>\n",
              "      <td>10458</td>\n",
              "      <td>1520</td>\n",
              "      <td>1</td>\n",
              "      <td>...</td>\n",
              "      <td>NaN</td>\n",
              "      <td>NaN</td>\n",
              "      <td>NaN</td>\n",
              "      <td>NaN</td>\n",
              "      <td>NaN</td>\n",
              "      <td>NaN</td>\n",
              "      <td>NaN</td>\n",
              "      <td>NaN</td>\n",
              "      <td>NaN</td>\n",
              "      <td>left_only</td>\n",
              "    </tr>\n",
              "    <tr>\n",
              "      <th>3</th>\n",
              "      <td>COVID-19</td>\n",
              "      <td>1.369888e+18</td>\n",
              "      <td>http://twitter.com/user/status/136988848341471...</td>\n",
              "      <td>Four former presidents have banded together fo...</td>\n",
              "      <td>626809</td>\n",
              "      <td>987</td>\n",
              "      <td>111786</td>\n",
              "      <td>6926</td>\n",
              "      <td>1439</td>\n",
              "      <td>1</td>\n",
              "      <td>...</td>\n",
              "      <td>NaN</td>\n",
              "      <td>NaN</td>\n",
              "      <td>NaN</td>\n",
              "      <td>NaN</td>\n",
              "      <td>NaN</td>\n",
              "      <td>NaN</td>\n",
              "      <td>NaN</td>\n",
              "      <td>NaN</td>\n",
              "      <td>NaN</td>\n",
              "      <td>left_only</td>\n",
              "    </tr>\n",
              "    <tr>\n",
              "      <th>4</th>\n",
              "      <td>COVID-19</td>\n",
              "      <td>1.368585e+18</td>\n",
              "      <td>http://twitter.com/user/status/136858518750069...</td>\n",
              "      <td>WSJ: All three of Russia's main intelligence s...</td>\n",
              "      <td>16471</td>\n",
              "      <td>9848</td>\n",
              "      <td>132104</td>\n",
              "      <td>1217</td>\n",
              "      <td>1035</td>\n",
              "      <td>0</td>\n",
              "      <td>...</td>\n",
              "      <td>NaN</td>\n",
              "      <td>NaN</td>\n",
              "      <td>NaN</td>\n",
              "      <td>NaN</td>\n",
              "      <td>NaN</td>\n",
              "      <td>NaN</td>\n",
              "      <td>NaN</td>\n",
              "      <td>NaN</td>\n",
              "      <td>NaN</td>\n",
              "      <td>left_only</td>\n",
              "    </tr>\n",
              "  </tbody>\n",
              "</table>\n",
              "<p>5 rows × 27 columns</p>\n",
              "</div>\n",
              "      <button class=\"colab-df-convert\" onclick=\"convertToInteractive('df-ae9d2d4d-5767-47fd-a780-882aa2c6a458')\"\n",
              "              title=\"Convert this dataframe to an interactive table.\"\n",
              "              style=\"display:none;\">\n",
              "        \n",
              "  <svg xmlns=\"http://www.w3.org/2000/svg\" height=\"24px\"viewBox=\"0 0 24 24\"\n",
              "       width=\"24px\">\n",
              "    <path d=\"M0 0h24v24H0V0z\" fill=\"none\"/>\n",
              "    <path d=\"M18.56 5.44l.94 2.06.94-2.06 2.06-.94-2.06-.94-.94-2.06-.94 2.06-2.06.94zm-11 1L8.5 8.5l.94-2.06 2.06-.94-2.06-.94L8.5 2.5l-.94 2.06-2.06.94zm10 10l.94 2.06.94-2.06 2.06-.94-2.06-.94-.94-2.06-.94 2.06-2.06.94z\"/><path d=\"M17.41 7.96l-1.37-1.37c-.4-.4-.92-.59-1.43-.59-.52 0-1.04.2-1.43.59L10.3 9.45l-7.72 7.72c-.78.78-.78 2.05 0 2.83L4 21.41c.39.39.9.59 1.41.59.51 0 1.02-.2 1.41-.59l7.78-7.78 2.81-2.81c.8-.78.8-2.07 0-2.86zM5.41 20L4 18.59l7.72-7.72 1.47 1.35L5.41 20z\"/>\n",
              "  </svg>\n",
              "      </button>\n",
              "      \n",
              "  <style>\n",
              "    .colab-df-container {\n",
              "      display:flex;\n",
              "      flex-wrap:wrap;\n",
              "      gap: 12px;\n",
              "    }\n",
              "\n",
              "    .colab-df-convert {\n",
              "      background-color: #E8F0FE;\n",
              "      border: none;\n",
              "      border-radius: 50%;\n",
              "      cursor: pointer;\n",
              "      display: none;\n",
              "      fill: #1967D2;\n",
              "      height: 32px;\n",
              "      padding: 0 0 0 0;\n",
              "      width: 32px;\n",
              "    }\n",
              "\n",
              "    .colab-df-convert:hover {\n",
              "      background-color: #E2EBFA;\n",
              "      box-shadow: 0px 1px 2px rgba(60, 64, 67, 0.3), 0px 1px 3px 1px rgba(60, 64, 67, 0.15);\n",
              "      fill: #174EA6;\n",
              "    }\n",
              "\n",
              "    [theme=dark] .colab-df-convert {\n",
              "      background-color: #3B4455;\n",
              "      fill: #D2E3FC;\n",
              "    }\n",
              "\n",
              "    [theme=dark] .colab-df-convert:hover {\n",
              "      background-color: #434B5C;\n",
              "      box-shadow: 0px 1px 3px 1px rgba(0, 0, 0, 0.15);\n",
              "      filter: drop-shadow(0px 1px 2px rgba(0, 0, 0, 0.3));\n",
              "      fill: #FFFFFF;\n",
              "    }\n",
              "  </style>\n",
              "\n",
              "      <script>\n",
              "        const buttonEl =\n",
              "          document.querySelector('#df-ae9d2d4d-5767-47fd-a780-882aa2c6a458 button.colab-df-convert');\n",
              "        buttonEl.style.display =\n",
              "          google.colab.kernel.accessAllowed ? 'block' : 'none';\n",
              "\n",
              "        async function convertToInteractive(key) {\n",
              "          const element = document.querySelector('#df-ae9d2d4d-5767-47fd-a780-882aa2c6a458');\n",
              "          const dataTable =\n",
              "            await google.colab.kernel.invokeFunction('convertToInteractive',\n",
              "                                                     [key], {});\n",
              "          if (!dataTable) return;\n",
              "\n",
              "          const docLinkHtml = 'Like what you see? Visit the ' +\n",
              "            '<a target=\"_blank\" href=https://colab.research.google.com/notebooks/data_table.ipynb>data table notebook</a>'\n",
              "            + ' to learn more about interactive tables.';\n",
              "          element.innerHTML = '';\n",
              "          dataTable['output_type'] = 'display_data';\n",
              "          await google.colab.output.renderOutput(dataTable, element);\n",
              "          const docLink = document.createElement('div');\n",
              "          docLink.innerHTML = docLinkHtml;\n",
              "          element.appendChild(docLink);\n",
              "        }\n",
              "      </script>\n",
              "    </div>\n",
              "  </div>\n",
              "  "
            ],
            "text/plain": [
              "    topic_x      tweet_id                                        tweet_url_x  \\\n",
              "0  COVID-19  1.359351e+18  http://twitter.com/user/status/135935094335617...   \n",
              "1  COVID-19  1.370008e+18  http://twitter.com/user/status/137000807648978...   \n",
              "2  COVID-19  1.367727e+18  http://twitter.com/user/status/136772673004420...   \n",
              "3  COVID-19  1.369888e+18  http://twitter.com/user/status/136988848341471...   \n",
              "4  COVID-19  1.368585e+18  http://twitter.com/user/status/136858518750069...   \n",
              "\n",
              "                                        tweet_text_x  followers  following  \\\n",
              "0  India's gift ofnumber COVID-19 vaccines arrive...      49449       1155   \n",
              "1  As part of the ongoing nationwide vaccination ...     717219        312   \n",
              "2  Pleased to receivenumber doses of Covid-19 vac...      92110        509   \n",
              "3  Four former presidents have banded together fo...     626809        987   \n",
              "4  WSJ: All three of Russia's main intelligence s...      16471       9848   \n",
              "\n",
              "    posts  likes   rts  verified  ...  topic_x  tweet_url_x tweet_text_x  \\\n",
              "0    2495  33325  7962         1  ...      NaN          NaN          NaN   \n",
              "1   24212   6145  1717         1  ...      NaN          NaN          NaN   \n",
              "2    2782  10458  1520         1  ...      NaN          NaN          NaN   \n",
              "3  111786   6926  1439         1  ...      NaN          NaN          NaN   \n",
              "4  132104   1217  1035         0  ...      NaN          NaN          NaN   \n",
              "\n",
              "  class_label_y index  topic_y  tweet_url_y tweet_text_y class_label  \\\n",
              "0           NaN   NaN      NaN          NaN          NaN         NaN   \n",
              "1           NaN   NaN      NaN          NaN          NaN         NaN   \n",
              "2           NaN   NaN      NaN          NaN          NaN         NaN   \n",
              "3           NaN   NaN      NaN          NaN          NaN         NaN   \n",
              "4           NaN   NaN      NaN          NaN          NaN         NaN   \n",
              "\n",
              "      _merge  \n",
              "0  left_only  \n",
              "1  left_only  \n",
              "2  left_only  \n",
              "3  left_only  \n",
              "4  left_only  \n",
              "\n",
              "[5 rows x 27 columns]"
            ]
          },
          "execution_count": 45,
          "metadata": {},
          "output_type": "execute_result"
        }
      ],
      "source": [
        "new_dataset.head()"
      ]
    },
    {
      "cell_type": "code",
      "execution_count": null,
      "metadata": {
        "id": "sMHhSZmw3xPk"
      },
      "outputs": [],
      "source": [
        "new_dataset.to_csv(\"wip train1b.csv\")"
      ]
    },
    {
      "cell_type": "code",
      "execution_count": null,
      "metadata": {
        "id": "szA5X9K6JNDI"
      },
      "outputs": [],
      "source": [
        ""
      ]
    },
    {
      "cell_type": "code",
      "execution_count": null,
      "metadata": {
        "id": "5KsaHy0P0g-W"
      },
      "outputs": [],
      "source": [
        "trainfile3 = pd.read_csv('/content/CT22_english_1C_harmful_train.tsv', delimiter = '\\t')"
      ]
    },
    {
      "cell_type": "code",
      "execution_count": null,
      "metadata": {
        "id": "0rIVmTnj1Mbe"
      },
      "outputs": [],
      "source": [
        "remove= []\n",
        "for index_label, row_series in new_dataset.iterrows():\n",
        "  if np.isnan(new_dataset.at[index_label, 'class_label']):\n",
        "    if not np.isnan(new_dataset.at[index_label, 'class_label_x']):\n",
        "      new_dataset.at[index_label, 'class_label'] = new_dataset.at[index_label, 'class_label_x']\n",
        "    elif not np.isnan(new_dataset.at[index_label, 'class_label_x']):\n",
        "      new_dataset.at[index_label, 'class_label'] = new_dataset.at[index_label, 'class_label_y']\n",
        "    else:\n",
        "      remove.append(index_label)\n",
        "\n",
        "  \n",
        "  # print(dataset_bg.at[index_label, 'tweet_text'])\n"
      ]
    },
    {
      "cell_type": "code",
      "execution_count": null,
      "metadata": {
        "colab": {
          "base_uri": "https://localhost:8080/"
        },
        "id": "Xt_HWcuzKb7i",
        "outputId": "e9fc73f1-ad2e-42e9-f48c-271ddfe7045e"
      },
      "outputs": [
        {
          "name": "stdout",
          "output_type": "stream",
          "text": [
            "2097\n"
          ]
        }
      ],
      "source": [
        "print(len(remove))"
      ]
    },
    {
      "cell_type": "code",
      "execution_count": null,
      "metadata": {
        "colab": {
          "base_uri": "https://localhost:8080/"
        },
        "id": "kyswgO-BMqx7",
        "outputId": "2a4ed5de-d65a-486a-aa1d-d4eba04a398a"
      },
      "outputs": [
        {
          "data": {
            "text/plain": [
              "Index(['topic_x', 'tweet_id', 'tweet_url_x', 'tweet_text_x', 'followers',\n",
              "       'following', 'posts', 'likes', 'rts', 'verified', 'url', 'index_x',\n",
              "       'topic_y', 'tweet_url_y', 'tweet_text_y', 'class_label_x', 'index_y',\n",
              "       'topic_x', 'tweet_url_x', 'tweet_text_x', 'class_label_y', 'index',\n",
              "       'topic_y', 'tweet_url_y', 'tweet_text_y', 'class_label', '_merge'],\n",
              "      dtype='object')"
            ]
          },
          "execution_count": 57,
          "metadata": {},
          "output_type": "execute_result"
        }
      ],
      "source": [
        "new_dataset.columns"
      ]
    },
    {
      "cell_type": "code",
      "execution_count": null,
      "metadata": {
        "id": "eKyImVCoLuQC"
      },
      "outputs": [],
      "source": [
        "dataset = new_dataset.drop(remove, axis=0)"
      ]
    },
    {
      "cell_type": "code",
      "execution_count": null,
      "metadata": {
        "id": "Fk0sRkdYL7-q"
      },
      "outputs": [],
      "source": [
        "dataset = dataset[['tweet_id', 'tweet_url_x', 'tweet_text_x', 'followers', 'following', 'posts', 'likes', 'rts', 'verified', 'class_label' ]].copy()"
      ]
    },
    {
      "cell_type": "code",
      "execution_count": null,
      "metadata": {
        "colab": {
          "base_uri": "https://localhost:8080/"
        },
        "id": "TmuuaAFGM5sW",
        "outputId": "9d9e8767-c66b-4dd5-a7fe-ff63e582a2d3"
      },
      "outputs": [
        {
          "data": {
            "text/plain": [
              "2819"
            ]
          },
          "execution_count": 62,
          "metadata": {},
          "output_type": "execute_result"
        }
      ],
      "source": [
        "len(dataset)"
      ]
    },
    {
      "cell_type": "code",
      "execution_count": null,
      "metadata": {
        "colab": {
          "base_uri": "https://localhost:8080/"
        },
        "id": "KRW_Ekz5L0wk",
        "outputId": "ea533369-5369-413d-b9aa-155220d79fae"
      },
      "outputs": [
        {
          "data": {
            "text/plain": [
              "Index(['tweet_id', 'tweet_url', 'tweet_url', 'tweet_text', 'tweet_text',\n",
              "       'followers', 'following', 'posts', 'likes', 'rts', 'verified',\n",
              "       'class_label'],\n",
              "      dtype='object')"
            ]
          },
          "execution_count": 79,
          "metadata": {},
          "output_type": "execute_result"
        }
      ],
      "source": [
        "dataset.columns"
      ]
    },
    {
      "cell_type": "code",
      "execution_count": null,
      "metadata": {
        "id": "13qFUOlrPzSy"
      },
      "outputs": [],
      "source": [
        "dataset.rename(columns = {'tweet_url_x': 'tweet_url', 'tweet_text_x':'tweet_text' } , inplace = True)"
      ]
    },
    {
      "cell_type": "code",
      "execution_count": null,
      "metadata": {
        "id": "p4k6tvTcQHTI"
      },
      "outputs": [],
      "source": [
        ""
      ]
    },
    {
      "cell_type": "code",
      "execution_count": null,
      "metadata": {
        "id": "pHb6rowYNTGo"
      },
      "outputs": [],
      "source": [
        "dataset.to_csv('task1btrain.csv')"
      ]
    },
    {
      "cell_type": "code",
      "execution_count": null,
      "metadata": {
        "id": "G8GRac8XT7_n"
      },
      "outputs": [],
      "source": [
        "!pip3 install ktrain"
      ]
    },
    {
      "cell_type": "code",
      "execution_count": null,
      "metadata": {
        "id": "3NMaDJA9Nkwm"
      },
      "outputs": [],
      "source": [
        "dataset_en = pd.read_csv('/content/CT22_english_1B_claim_test.tsv', delimiter='\\t')"
      ]
    },
    {
      "cell_type": "code",
      "execution_count": null,
      "metadata": {
        "id": "-NcoYX5zPEB4"
      },
      "outputs": [],
      "source": [
        "test1a = pd.read_csv('/content/testsettask1a.csv')"
      ]
    },
    {
      "cell_type": "code",
      "execution_count": null,
      "metadata": {
        "colab": {
          "base_uri": "https://localhost:8080/"
        },
        "id": "w1wQ9jNRPZzH",
        "outputId": "618a46e9-cbe6-4f90-efa5-400c1aa9b2a1"
      },
      "outputs": [
        {
          "data": {
            "text/plain": [
              "Index(['Unnamed: 0', 'Unnamed: 0.1', 'topic', 'tweet_id', 'tweet_url',\n",
              "       'tweet_text', 'followers', 'following', 'posts', 'likes', 'rts',\n",
              "       'verified', 'url'],\n",
              "      dtype='object')"
            ]
          },
          "execution_count": 74,
          "metadata": {},
          "output_type": "execute_result"
        }
      ],
      "source": [
        "test1a.columns"
      ]
    },
    {
      "cell_type": "code",
      "execution_count": null,
      "metadata": {
        "id": "RTpsFknLO7L7"
      },
      "outputs": [],
      "source": [
        "task1btest = pd.merge(task1btest, \n",
        "                test1a.reset_index(), \n",
        "                left_on=['tweet_id', 'topic' , 'tweet_url'], \n",
        "                right_on=['tweet_id', 'topic' , 'tweet_url'], \n",
        "                how='left'\n",
        "                )"
      ]
    },
    {
      "cell_type": "code",
      "execution_count": null,
      "metadata": {
        "colab": {
          "base_uri": "https://localhost:8080/"
        },
        "id": "cyhRZluUQ_WY",
        "outputId": "d393c1a9-4e41-4c31-c794-143fa85b66af"
      },
      "outputs": [
        {
          "data": {
            "text/plain": [
              "251"
            ]
          },
          "execution_count": 89,
          "metadata": {},
          "output_type": "execute_result"
        }
      ],
      "source": [
        "len(task1btest)"
      ]
    },
    {
      "cell_type": "code",
      "execution_count": null,
      "metadata": {
        "colab": {
          "base_uri": "https://localhost:8080/",
          "height": 381
        },
        "id": "zkfSMP3rPQXR",
        "outputId": "3fa92e23-50c9-4a5b-bbd9-da544bfe37a5"
      },
      "outputs": [
        {
          "data": {
            "text/html": [
              "\n",
              "  <div id=\"df-09fc508d-b3bb-49af-9581-cdcab6fb237a\">\n",
              "    <div class=\"colab-df-container\">\n",
              "      <div>\n",
              "<style scoped>\n",
              "    .dataframe tbody tr th:only-of-type {\n",
              "        vertical-align: middle;\n",
              "    }\n",
              "\n",
              "    .dataframe tbody tr th {\n",
              "        vertical-align: top;\n",
              "    }\n",
              "\n",
              "    .dataframe thead th {\n",
              "        text-align: right;\n",
              "    }\n",
              "</style>\n",
              "<table border=\"1\" class=\"dataframe\">\n",
              "  <thead>\n",
              "    <tr style=\"text-align: right;\">\n",
              "      <th></th>\n",
              "      <th>tweet_id</th>\n",
              "      <th>index</th>\n",
              "      <th>Unnamed: 0</th>\n",
              "      <th>Unnamed: 0.1</th>\n",
              "      <th>followers</th>\n",
              "      <th>following</th>\n",
              "      <th>posts</th>\n",
              "      <th>likes</th>\n",
              "      <th>rts</th>\n",
              "      <th>verified</th>\n",
              "      <th>url</th>\n",
              "    </tr>\n",
              "  </thead>\n",
              "  <tbody>\n",
              "    <tr>\n",
              "      <th>count</th>\n",
              "      <td>2.510000e+02</td>\n",
              "      <td>149.000000</td>\n",
              "      <td>149.000000</td>\n",
              "      <td>149.000000</td>\n",
              "      <td>1.490000e+02</td>\n",
              "      <td>149.000000</td>\n",
              "      <td>149.000000</td>\n",
              "      <td>149.000000</td>\n",
              "      <td>149.000000</td>\n",
              "      <td>149.000000</td>\n",
              "      <td>149.000000</td>\n",
              "    </tr>\n",
              "    <tr>\n",
              "      <th>mean</th>\n",
              "      <td>1.421246e+18</td>\n",
              "      <td>74.000000</td>\n",
              "      <td>74.000000</td>\n",
              "      <td>74.000000</td>\n",
              "      <td>3.577005e+06</td>\n",
              "      <td>4218.832215</td>\n",
              "      <td>43087.221477</td>\n",
              "      <td>60226.550336</td>\n",
              "      <td>14190.395973</td>\n",
              "      <td>0.677852</td>\n",
              "      <td>0.906040</td>\n",
              "    </tr>\n",
              "    <tr>\n",
              "      <th>std</th>\n",
              "      <td>7.120500e+16</td>\n",
              "      <td>43.156691</td>\n",
              "      <td>43.156691</td>\n",
              "      <td>43.156691</td>\n",
              "      <td>1.288957e+07</td>\n",
              "      <td>7095.322965</td>\n",
              "      <td>64877.776002</td>\n",
              "      <td>67471.167051</td>\n",
              "      <td>14169.354368</td>\n",
              "      <td>0.468875</td>\n",
              "      <td>0.292757</td>\n",
              "    </tr>\n",
              "    <tr>\n",
              "      <th>min</th>\n",
              "      <td>5.627078e+17</td>\n",
              "      <td>0.000000</td>\n",
              "      <td>0.000000</td>\n",
              "      <td>0.000000</td>\n",
              "      <td>0.000000e+00</td>\n",
              "      <td>0.000000</td>\n",
              "      <td>0.000000</td>\n",
              "      <td>0.000000</td>\n",
              "      <td>0.000000</td>\n",
              "      <td>0.000000</td>\n",
              "      <td>0.000000</td>\n",
              "    </tr>\n",
              "    <tr>\n",
              "      <th>25%</th>\n",
              "      <td>1.390733e+18</td>\n",
              "      <td>37.000000</td>\n",
              "      <td>37.000000</td>\n",
              "      <td>37.000000</td>\n",
              "      <td>3.891200e+04</td>\n",
              "      <td>483.000000</td>\n",
              "      <td>8691.000000</td>\n",
              "      <td>22373.000000</td>\n",
              "      <td>7148.000000</td>\n",
              "      <td>0.000000</td>\n",
              "      <td>1.000000</td>\n",
              "    </tr>\n",
              "    <tr>\n",
              "      <th>50%</th>\n",
              "      <td>1.436097e+18</td>\n",
              "      <td>74.000000</td>\n",
              "      <td>74.000000</td>\n",
              "      <td>74.000000</td>\n",
              "      <td>3.397400e+05</td>\n",
              "      <td>1214.000000</td>\n",
              "      <td>23523.000000</td>\n",
              "      <td>34778.000000</td>\n",
              "      <td>9996.000000</td>\n",
              "      <td>1.000000</td>\n",
              "      <td>1.000000</td>\n",
              "    </tr>\n",
              "    <tr>\n",
              "      <th>75%</th>\n",
              "      <td>1.457098e+18</td>\n",
              "      <td>111.000000</td>\n",
              "      <td>111.000000</td>\n",
              "      <td>111.000000</td>\n",
              "      <td>1.238866e+06</td>\n",
              "      <td>4166.000000</td>\n",
              "      <td>54770.000000</td>\n",
              "      <td>70396.000000</td>\n",
              "      <td>15106.000000</td>\n",
              "      <td>1.000000</td>\n",
              "      <td>1.000000</td>\n",
              "    </tr>\n",
              "    <tr>\n",
              "      <th>max</th>\n",
              "      <td>1.483471e+18</td>\n",
              "      <td>148.000000</td>\n",
              "      <td>148.000000</td>\n",
              "      <td>148.000000</td>\n",
              "      <td>7.845969e+07</td>\n",
              "      <td>44418.000000</td>\n",
              "      <td>480716.000000</td>\n",
              "      <td>411022.000000</td>\n",
              "      <td>109126.000000</td>\n",
              "      <td>1.000000</td>\n",
              "      <td>1.000000</td>\n",
              "    </tr>\n",
              "  </tbody>\n",
              "</table>\n",
              "</div>\n",
              "      <button class=\"colab-df-convert\" onclick=\"convertToInteractive('df-09fc508d-b3bb-49af-9581-cdcab6fb237a')\"\n",
              "              title=\"Convert this dataframe to an interactive table.\"\n",
              "              style=\"display:none;\">\n",
              "        \n",
              "  <svg xmlns=\"http://www.w3.org/2000/svg\" height=\"24px\"viewBox=\"0 0 24 24\"\n",
              "       width=\"24px\">\n",
              "    <path d=\"M0 0h24v24H0V0z\" fill=\"none\"/>\n",
              "    <path d=\"M18.56 5.44l.94 2.06.94-2.06 2.06-.94-2.06-.94-.94-2.06-.94 2.06-2.06.94zm-11 1L8.5 8.5l.94-2.06 2.06-.94-2.06-.94L8.5 2.5l-.94 2.06-2.06.94zm10 10l.94 2.06.94-2.06 2.06-.94-2.06-.94-.94-2.06-.94 2.06-2.06.94z\"/><path d=\"M17.41 7.96l-1.37-1.37c-.4-.4-.92-.59-1.43-.59-.52 0-1.04.2-1.43.59L10.3 9.45l-7.72 7.72c-.78.78-.78 2.05 0 2.83L4 21.41c.39.39.9.59 1.41.59.51 0 1.02-.2 1.41-.59l7.78-7.78 2.81-2.81c.8-.78.8-2.07 0-2.86zM5.41 20L4 18.59l7.72-7.72 1.47 1.35L5.41 20z\"/>\n",
              "  </svg>\n",
              "      </button>\n",
              "      \n",
              "  <style>\n",
              "    .colab-df-container {\n",
              "      display:flex;\n",
              "      flex-wrap:wrap;\n",
              "      gap: 12px;\n",
              "    }\n",
              "\n",
              "    .colab-df-convert {\n",
              "      background-color: #E8F0FE;\n",
              "      border: none;\n",
              "      border-radius: 50%;\n",
              "      cursor: pointer;\n",
              "      display: none;\n",
              "      fill: #1967D2;\n",
              "      height: 32px;\n",
              "      padding: 0 0 0 0;\n",
              "      width: 32px;\n",
              "    }\n",
              "\n",
              "    .colab-df-convert:hover {\n",
              "      background-color: #E2EBFA;\n",
              "      box-shadow: 0px 1px 2px rgba(60, 64, 67, 0.3), 0px 1px 3px 1px rgba(60, 64, 67, 0.15);\n",
              "      fill: #174EA6;\n",
              "    }\n",
              "\n",
              "    [theme=dark] .colab-df-convert {\n",
              "      background-color: #3B4455;\n",
              "      fill: #D2E3FC;\n",
              "    }\n",
              "\n",
              "    [theme=dark] .colab-df-convert:hover {\n",
              "      background-color: #434B5C;\n",
              "      box-shadow: 0px 1px 3px 1px rgba(0, 0, 0, 0.15);\n",
              "      filter: drop-shadow(0px 1px 2px rgba(0, 0, 0, 0.3));\n",
              "      fill: #FFFFFF;\n",
              "    }\n",
              "  </style>\n",
              "\n",
              "      <script>\n",
              "        const buttonEl =\n",
              "          document.querySelector('#df-09fc508d-b3bb-49af-9581-cdcab6fb237a button.colab-df-convert');\n",
              "        buttonEl.style.display =\n",
              "          google.colab.kernel.accessAllowed ? 'block' : 'none';\n",
              "\n",
              "        async function convertToInteractive(key) {\n",
              "          const element = document.querySelector('#df-09fc508d-b3bb-49af-9581-cdcab6fb237a');\n",
              "          const dataTable =\n",
              "            await google.colab.kernel.invokeFunction('convertToInteractive',\n",
              "                                                     [key], {});\n",
              "          if (!dataTable) return;\n",
              "\n",
              "          const docLinkHtml = 'Like what you see? Visit the ' +\n",
              "            '<a target=\"_blank\" href=https://colab.research.google.com/notebooks/data_table.ipynb>data table notebook</a>'\n",
              "            + ' to learn more about interactive tables.';\n",
              "          element.innerHTML = '';\n",
              "          dataTable['output_type'] = 'display_data';\n",
              "          await google.colab.output.renderOutput(dataTable, element);\n",
              "          const docLink = document.createElement('div');\n",
              "          docLink.innerHTML = docLinkHtml;\n",
              "          element.appendChild(docLink);\n",
              "        }\n",
              "      </script>\n",
              "    </div>\n",
              "  </div>\n",
              "  "
            ],
            "text/plain": [
              "           tweet_id       index  Unnamed: 0  Unnamed: 0.1     followers  \\\n",
              "count  2.510000e+02  149.000000  149.000000    149.000000  1.490000e+02   \n",
              "mean   1.421246e+18   74.000000   74.000000     74.000000  3.577005e+06   \n",
              "std    7.120500e+16   43.156691   43.156691     43.156691  1.288957e+07   \n",
              "min    5.627078e+17    0.000000    0.000000      0.000000  0.000000e+00   \n",
              "25%    1.390733e+18   37.000000   37.000000     37.000000  3.891200e+04   \n",
              "50%    1.436097e+18   74.000000   74.000000     74.000000  3.397400e+05   \n",
              "75%    1.457098e+18  111.000000  111.000000    111.000000  1.238866e+06   \n",
              "max    1.483471e+18  148.000000  148.000000    148.000000  7.845969e+07   \n",
              "\n",
              "          following          posts          likes            rts    verified  \\\n",
              "count    149.000000     149.000000     149.000000     149.000000  149.000000   \n",
              "mean    4218.832215   43087.221477   60226.550336   14190.395973    0.677852   \n",
              "std     7095.322965   64877.776002   67471.167051   14169.354368    0.468875   \n",
              "min        0.000000       0.000000       0.000000       0.000000    0.000000   \n",
              "25%      483.000000    8691.000000   22373.000000    7148.000000    0.000000   \n",
              "50%     1214.000000   23523.000000   34778.000000    9996.000000    1.000000   \n",
              "75%     4166.000000   54770.000000   70396.000000   15106.000000    1.000000   \n",
              "max    44418.000000  480716.000000  411022.000000  109126.000000    1.000000   \n",
              "\n",
              "              url  \n",
              "count  149.000000  \n",
              "mean     0.906040  \n",
              "std      0.292757  \n",
              "min      0.000000  \n",
              "25%      1.000000  \n",
              "50%      1.000000  \n",
              "75%      1.000000  \n",
              "max      1.000000  "
            ]
          },
          "execution_count": 88,
          "metadata": {},
          "output_type": "execute_result"
        }
      ],
      "source": [
        "task1btest.describe()"
      ]
    },
    {
      "cell_type": "code",
      "execution_count": null,
      "metadata": {
        "colab": {
          "base_uri": "https://localhost:8080/"
        },
        "id": "yYj1fSUpyrbt",
        "outputId": "239b2384-e8ee-4500-f024-228634cd5041"
      },
      "outputs": [
        {
          "name": "stdout",
          "output_type": "stream",
          "text": [
            "Collecting googletrans==3.1.0a0\n",
            "  Downloading googletrans-3.1.0a0.tar.gz (19 kB)\n",
            "Collecting httpx==0.13.3\n",
            "  Downloading httpx-0.13.3-py3-none-any.whl (55 kB)\n",
            "\u001b[K     |████████████████████████████████| 55 kB 2.0 MB/s \n",
            "\u001b[?25hRequirement already satisfied: idna==2.* in /usr/local/lib/python3.7/dist-packages (from httpx==0.13.3->googletrans==3.1.0a0) (2.10)\n",
            "Requirement already satisfied: certifi in /usr/local/lib/python3.7/dist-packages (from httpx==0.13.3->googletrans==3.1.0a0) (2021.10.8)\n",
            "Collecting sniffio\n",
            "  Downloading sniffio-1.2.0-py3-none-any.whl (10 kB)\n",
            "Collecting hstspreload\n",
            "  Downloading hstspreload-2021.12.1-py3-none-any.whl (1.3 MB)\n",
            "\u001b[K     |████████████████████████████████| 1.3 MB 10.5 MB/s \n",
            "\u001b[?25hCollecting rfc3986<2,>=1.3\n",
            "  Downloading rfc3986-1.5.0-py2.py3-none-any.whl (31 kB)\n",
            "Requirement already satisfied: chardet==3.* in /usr/local/lib/python3.7/dist-packages (from httpx==0.13.3->googletrans==3.1.0a0) (3.0.4)\n",
            "Collecting httpcore==0.9.*\n",
            "  Downloading httpcore-0.9.1-py3-none-any.whl (42 kB)\n",
            "\u001b[K     |████████████████████████████████| 42 kB 719 kB/s \n",
            "\u001b[?25hCollecting h11<0.10,>=0.8\n",
            "  Downloading h11-0.9.0-py2.py3-none-any.whl (53 kB)\n",
            "\u001b[K     |████████████████████████████████| 53 kB 1.7 MB/s \n",
            "\u001b[?25hCollecting h2==3.*\n",
            "  Downloading h2-3.2.0-py2.py3-none-any.whl (65 kB)\n",
            "\u001b[K     |████████████████████████████████| 65 kB 2.6 MB/s \n",
            "\u001b[?25hCollecting hyperframe<6,>=5.2.0\n",
            "  Downloading hyperframe-5.2.0-py2.py3-none-any.whl (12 kB)\n",
            "Collecting hpack<4,>=3.0\n",
            "  Downloading hpack-3.0.0-py2.py3-none-any.whl (38 kB)\n",
            "Building wheels for collected packages: googletrans\n",
            "  Building wheel for googletrans (setup.py) ... \u001b[?25l\u001b[?25hdone\n",
            "  Created wheel for googletrans: filename=googletrans-3.1.0a0-py3-none-any.whl size=16367 sha256=6ecf464a1d7ca6d7be9efe40ac998fc84b4f24423314d7ae1ebc6b4ec55e8319\n",
            "  Stored in directory: /root/.cache/pip/wheels/0c/be/fe/93a6a40ffe386e16089e44dad9018ebab9dc4cb9eb7eab65ae\n",
            "Successfully built googletrans\n",
            "Installing collected packages: hyperframe, hpack, sniffio, h2, h11, rfc3986, httpcore, hstspreload, httpx, googletrans\n",
            "Successfully installed googletrans-3.1.0a0 h11-0.9.0 h2-3.2.0 hpack-3.0.0 hstspreload-2021.12.1 httpcore-0.9.1 httpx-0.13.3 hyperframe-5.2.0 rfc3986-1.5.0 sniffio-1.2.0\n"
          ]
        }
      ],
      "source": [
        "!pip install googletrans==3.1.0a0\n"
      ]
    },
    {
      "cell_type": "markdown",
      "metadata": {
        "id": "wTfaCIzdCLPA"
      },
      "source": [
        "## Importing the dataset"
      ]
    },
    {
      "cell_type": "code",
      "execution_count": null,
      "metadata": {
        "id": "-_p3z1xKcO1i"
      },
      "outputs": [],
      "source": [
        "dataset_bg = pd.read_csv('/content/CT22_bulgarian_1C_harmful_train.tsv', delimiter = '\\t')"
      ]
    },
    {
      "cell_type": "code",
      "execution_count": null,
      "metadata": {
        "id": "ylsDYzp_WxrJ"
      },
      "outputs": [],
      "source": [
        "from googletrans import Translator\n",
        "translator= Translator()\n"
      ]
    },
    {
      "cell_type": "code",
      "execution_count": null,
      "metadata": {
        "id": "gT84BLKqWNYX"
      },
      "outputs": [],
      "source": [
        "for index_label, row_series in dataset_bg.iterrows():\n",
        "  dataset_bg.at[index_label, 'tweet_text']= translator.translate(dataset_bg.at[index_label, 'tweet_text'], src='bg', dest='en').text\n",
        "  # print(dataset_bg.at[index_label, 'tweet_text'])\n"
      ]
    },
    {
      "cell_type": "code",
      "execution_count": null,
      "metadata": {
        "id": "BQ1h5V1PEsV7"
      },
      "outputs": [],
      "source": [
        "dataset_bg.to_csv('xyz.csv')"
      ]
    },
    {
      "cell_type": "code",
      "execution_count": null,
      "metadata": {
        "colab": {
          "base_uri": "https://localhost:8080/",
          "height": 206
        },
        "id": "-eTiRihEXHL8",
        "outputId": "731ae307-5f5a-48d0-abde-e2a78d9f691f"
      },
      "outputs": [
        {
          "data": {
            "text/html": [
              "\n",
              "  <div id=\"df-35eb2094-2910-4c5c-8a78-a94bca2bb596\">\n",
              "    <div class=\"colab-df-container\">\n",
              "      <div>\n",
              "<style scoped>\n",
              "    .dataframe tbody tr th:only-of-type {\n",
              "        vertical-align: middle;\n",
              "    }\n",
              "\n",
              "    .dataframe tbody tr th {\n",
              "        vertical-align: top;\n",
              "    }\n",
              "\n",
              "    .dataframe thead th {\n",
              "        text-align: right;\n",
              "    }\n",
              "</style>\n",
              "<table border=\"1\" class=\"dataframe\">\n",
              "  <thead>\n",
              "    <tr style=\"text-align: right;\">\n",
              "      <th></th>\n",
              "      <th>topic</th>\n",
              "      <th>tweet_id</th>\n",
              "      <th>tweet_url</th>\n",
              "      <th>tweet_text</th>\n",
              "      <th>class_label</th>\n",
              "    </tr>\n",
              "  </thead>\n",
              "  <tbody>\n",
              "    <tr>\n",
              "      <th>0</th>\n",
              "      <td>COVID-19</td>\n",
              "      <td>1283842779135827971</td>\n",
              "      <td>http://twitter.com/user/status/128384277913582...</td>\n",
              "      <td>For those who think there is no virus https://...</td>\n",
              "      <td>0</td>\n",
              "    </tr>\n",
              "    <tr>\n",
              "      <th>1</th>\n",
              "      <td>COVID-19</td>\n",
              "      <td>1256941692017614849</td>\n",
              "      <td>http://twitter.com/user/status/125694169201761...</td>\n",
              "      <td>Some of the anti-epidemic measures introduced ...</td>\n",
              "      <td>0</td>\n",
              "    </tr>\n",
              "    <tr>\n",
              "      <th>2</th>\n",
              "      <td>COVID-19</td>\n",
              "      <td>1293089167568785409</td>\n",
              "      <td>http://twitter.com/user/status/129308916756878...</td>\n",
              "      <td>Biodiversity conservation 🦋🐅🐘🌴 remains a prior...</td>\n",
              "      <td>0</td>\n",
              "    </tr>\n",
              "    <tr>\n",
              "      <th>3</th>\n",
              "      <td>COVID-19</td>\n",
              "      <td>1252279781372149766</td>\n",
              "      <td>http://twitter.com/user/status/125227978137214...</td>\n",
              "      <td>A brief overview of building measures taken in...</td>\n",
              "      <td>0</td>\n",
              "    </tr>\n",
              "    <tr>\n",
              "      <th>4</th>\n",
              "      <td>COVID-19</td>\n",
              "      <td>1260568724584759300</td>\n",
              "      <td>http://twitter.com/user/status/126056872458475...</td>\n",
              "      <td>A new platform for sharing good practice in th...</td>\n",
              "      <td>0</td>\n",
              "    </tr>\n",
              "  </tbody>\n",
              "</table>\n",
              "</div>\n",
              "      <button class=\"colab-df-convert\" onclick=\"convertToInteractive('df-35eb2094-2910-4c5c-8a78-a94bca2bb596')\"\n",
              "              title=\"Convert this dataframe to an interactive table.\"\n",
              "              style=\"display:none;\">\n",
              "        \n",
              "  <svg xmlns=\"http://www.w3.org/2000/svg\" height=\"24px\"viewBox=\"0 0 24 24\"\n",
              "       width=\"24px\">\n",
              "    <path d=\"M0 0h24v24H0V0z\" fill=\"none\"/>\n",
              "    <path d=\"M18.56 5.44l.94 2.06.94-2.06 2.06-.94-2.06-.94-.94-2.06-.94 2.06-2.06.94zm-11 1L8.5 8.5l.94-2.06 2.06-.94-2.06-.94L8.5 2.5l-.94 2.06-2.06.94zm10 10l.94 2.06.94-2.06 2.06-.94-2.06-.94-.94-2.06-.94 2.06-2.06.94z\"/><path d=\"M17.41 7.96l-1.37-1.37c-.4-.4-.92-.59-1.43-.59-.52 0-1.04.2-1.43.59L10.3 9.45l-7.72 7.72c-.78.78-.78 2.05 0 2.83L4 21.41c.39.39.9.59 1.41.59.51 0 1.02-.2 1.41-.59l7.78-7.78 2.81-2.81c.8-.78.8-2.07 0-2.86zM5.41 20L4 18.59l7.72-7.72 1.47 1.35L5.41 20z\"/>\n",
              "  </svg>\n",
              "      </button>\n",
              "      \n",
              "  <style>\n",
              "    .colab-df-container {\n",
              "      display:flex;\n",
              "      flex-wrap:wrap;\n",
              "      gap: 12px;\n",
              "    }\n",
              "\n",
              "    .colab-df-convert {\n",
              "      background-color: #E8F0FE;\n",
              "      border: none;\n",
              "      border-radius: 50%;\n",
              "      cursor: pointer;\n",
              "      display: none;\n",
              "      fill: #1967D2;\n",
              "      height: 32px;\n",
              "      padding: 0 0 0 0;\n",
              "      width: 32px;\n",
              "    }\n",
              "\n",
              "    .colab-df-convert:hover {\n",
              "      background-color: #E2EBFA;\n",
              "      box-shadow: 0px 1px 2px rgba(60, 64, 67, 0.3), 0px 1px 3px 1px rgba(60, 64, 67, 0.15);\n",
              "      fill: #174EA6;\n",
              "    }\n",
              "\n",
              "    [theme=dark] .colab-df-convert {\n",
              "      background-color: #3B4455;\n",
              "      fill: #D2E3FC;\n",
              "    }\n",
              "\n",
              "    [theme=dark] .colab-df-convert:hover {\n",
              "      background-color: #434B5C;\n",
              "      box-shadow: 0px 1px 3px 1px rgba(0, 0, 0, 0.15);\n",
              "      filter: drop-shadow(0px 1px 2px rgba(0, 0, 0, 0.3));\n",
              "      fill: #FFFFFF;\n",
              "    }\n",
              "  </style>\n",
              "\n",
              "      <script>\n",
              "        const buttonEl =\n",
              "          document.querySelector('#df-35eb2094-2910-4c5c-8a78-a94bca2bb596 button.colab-df-convert');\n",
              "        buttonEl.style.display =\n",
              "          google.colab.kernel.accessAllowed ? 'block' : 'none';\n",
              "\n",
              "        async function convertToInteractive(key) {\n",
              "          const element = document.querySelector('#df-35eb2094-2910-4c5c-8a78-a94bca2bb596');\n",
              "          const dataTable =\n",
              "            await google.colab.kernel.invokeFunction('convertToInteractive',\n",
              "                                                     [key], {});\n",
              "          if (!dataTable) return;\n",
              "\n",
              "          const docLinkHtml = 'Like what you see? Visit the ' +\n",
              "            '<a target=\"_blank\" href=https://colab.research.google.com/notebooks/data_table.ipynb>data table notebook</a>'\n",
              "            + ' to learn more about interactive tables.';\n",
              "          element.innerHTML = '';\n",
              "          dataTable['output_type'] = 'display_data';\n",
              "          await google.colab.output.renderOutput(dataTable, element);\n",
              "          const docLink = document.createElement('div');\n",
              "          docLink.innerHTML = docLinkHtml;\n",
              "          element.appendChild(docLink);\n",
              "        }\n",
              "      </script>\n",
              "    </div>\n",
              "  </div>\n",
              "  "
            ],
            "text/plain": [
              "      topic             tweet_id  \\\n",
              "0  COVID-19  1283842779135827971   \n",
              "1  COVID-19  1256941692017614849   \n",
              "2  COVID-19  1293089167568785409   \n",
              "3  COVID-19  1252279781372149766   \n",
              "4  COVID-19  1260568724584759300   \n",
              "\n",
              "                                           tweet_url  \\\n",
              "0  http://twitter.com/user/status/128384277913582...   \n",
              "1  http://twitter.com/user/status/125694169201761...   \n",
              "2  http://twitter.com/user/status/129308916756878...   \n",
              "3  http://twitter.com/user/status/125227978137214...   \n",
              "4  http://twitter.com/user/status/126056872458475...   \n",
              "\n",
              "                                          tweet_text  class_label  \n",
              "0  For those who think there is no virus https://...            0  \n",
              "1  Some of the anti-epidemic measures introduced ...            0  \n",
              "2  Biodiversity conservation 🦋🐅🐘🌴 remains a prior...            0  \n",
              "3  A brief overview of building measures taken in...            0  \n",
              "4  A new platform for sharing good practice in th...            0  "
            ]
          },
          "execution_count": 7,
          "metadata": {},
          "output_type": "execute_result"
        }
      ],
      "source": [
        "dataset_bg.head()"
      ]
    },
    {
      "cell_type": "code",
      "execution_count": null,
      "metadata": {
        "id": "gF4puLCmY5bj"
      },
      "outputs": [],
      "source": [
        "dataset_en = pd.read_csv('/content/CT22_english_1C_harmful_train.tsv', delimiter = '\\t')"
      ]
    },
    {
      "cell_type": "code",
      "execution_count": null,
      "metadata": {
        "id": "kzthC3_-ZJ9X"
      },
      "outputs": [],
      "source": [
        "dataset_en  = dataset_en.append(dataset_bg, ignore_index=True)"
      ]
    },
    {
      "cell_type": "code",
      "execution_count": null,
      "metadata": {
        "id": "kpexoOAPqfh4"
      },
      "outputs": [],
      "source": [
        "dataset_en.to_csv('xyz.csv')"
      ]
    },
    {
      "cell_type": "code",
      "execution_count": null,
      "metadata": {
        "colab": {
          "base_uri": "https://localhost:8080/"
        },
        "id": "1b_6VYrRlGIv",
        "outputId": "22324aa7-d94b-4cd9-dc72-85ed6ceef3dd"
      },
      "outputs": [
        {
          "data": {
            "text/plain": [
              "6031"
            ]
          },
          "execution_count": 11,
          "metadata": {},
          "output_type": "execute_result"
        }
      ],
      "source": [
        "len(dataset_en)"
      ]
    },
    {
      "cell_type": "code",
      "execution_count": null,
      "metadata": {
        "id": "A9ioH2vEKPp8"
      },
      "outputs": [],
      "source": [
        "dataset_nl =  pd.read_csv('/content/CT22_dutch_1C_harmful_train.tsv', delimiter = '\\t')"
      ]
    },
    {
      "cell_type": "code",
      "execution_count": null,
      "metadata": {
        "id": "AvX35i71KPZG"
      },
      "outputs": [],
      "source": [
        "for index_label, row_series in dataset_nl.iterrows():\n",
        "  dataset_nl.at[index_label, 'tweet_text']= translator.translate(dataset_nl.at[index_label, 'tweet_text'], src='nl', dest='en').text\n",
        "  # print(dataset_bg.at[index_label, 'tweet_text'])\n"
      ]
    },
    {
      "cell_type": "code",
      "execution_count": null,
      "metadata": {
        "id": "n15obau_Ka-N"
      },
      "outputs": [],
      "source": [
        "dataset_en  = dataset_en.append(dataset_nl, ignore_index=True)"
      ]
    },
    {
      "cell_type": "code",
      "execution_count": null,
      "metadata": {
        "id": "mqieufwSAaZz"
      },
      "outputs": [],
      "source": [
        "import re \n",
        "for index_label, row_series in dataset_en.iterrows():\n",
        "  text = dataset_en.at[index_label, 'tweet_text']\n",
        "  # HASHTAGS\n",
        "  text = re.sub(r\"#\\S+\",\"\",text)\n",
        "  # URLS\n",
        "  text = re.sub(r\"(?i)\\b((?:https?://|www\\d{0,3}[.]|[a-z0-9.\\-]+[.][a-z]{2,4}/)(?:[^\\s()<>]+|\\(([^\\s()<>]+|(\\([^\\s()<>]+\\)))*\\))+(?:\\(([^\\s()<>]+|(\\([^\\s()<>]+\\)))*\\)|[^\\s`!()\\[\\]{};:'\\\".,<>?«»“”‘’]))\",\"\",text)\n",
        "  #MENTIONS\n",
        "  text = re.sub(r\"@\\S+\",\"\",text)\n",
        "  # NUMBERS CHANGE eg 30 --> \"number\"\n",
        "  text = re.sub('(?:^|\\s)(?=.)((?:0|(?:[1-9](?:\\d*|\\d{0,2}(?:,\\d{3})*)))?(?:\\.\\d*[1-9])?)(?!\\S)',\" number \",text)\n",
        "  #FORMATTED NUMBER: with decimals/commas\n",
        "  #finally putting it back in its place\n",
        "  dataset_en.at[index_label, 'tweet_text'] = text\n"
      ]
    },
    {
      "cell_type": "code",
      "execution_count": null,
      "metadata": {
        "id": "BVW7jBBJAbi3"
      },
      "outputs": [],
      "source": [
        "dataset_en.to_csv('task1ctestraw.csv' , index = False)"
      ]
    },
    {
      "cell_type": "code",
      "execution_count": null,
      "metadata": {
        "colab": {
          "base_uri": "https://localhost:8080/"
        },
        "id": "2bfrees8EHVO",
        "outputId": "6c0992ca-63b2-499c-c1e6-51699295e039"
      },
      "outputs": [
        {
          "data": {
            "text/plain": [
              "Index(['topic', 'tweet_id', 'tweet_url', 'tweet_text', 'class_label'], dtype='object')"
            ]
          },
          "execution_count": 21,
          "metadata": {},
          "output_type": "execute_result"
        }
      ],
      "source": [
        "dataset_en.columns"
      ]
    },
    {
      "cell_type": "code",
      "execution_count": null,
      "metadata": {
        "id": "r26YFZTdDf36"
      },
      "outputs": [],
      "source": [
        "t1b = pd.read_csv('/content/task1btrainfinal.csv')"
      ]
    },
    {
      "cell_type": "code",
      "execution_count": null,
      "metadata": {
        "id": "4JmIQTrRD9Wr"
      },
      "outputs": [],
      "source": [
        "xyz = pd.merge(dataset_en, \n",
        "                t1b.reset_index(), \n",
        "                left_on=['topic', 'tweet_id', 'tweet_url', 'tweet_text', 'class_label'], \n",
        "                right_on=['topic', 'tweet_id', 'tweet_url', 'tweet_text', 'class_label'], \n",
        "                how='left',\n",
        "                indicator=True\n",
        "                )"
      ]
    },
    {
      "cell_type": "code",
      "execution_count": null,
      "metadata": {
        "colab": {
          "base_uri": "https://localhost:8080/",
          "height": 300
        },
        "id": "g464moyZERXi",
        "outputId": "b24d2fa7-7c62-4f1e-e7fb-e2278315e460"
      },
      "outputs": [
        {
          "data": {
            "text/html": [
              "\n",
              "  <div id=\"df-71d15dc4-a394-4ab0-bfc5-30ffe9ac36d6\">\n",
              "    <div class=\"colab-df-container\">\n",
              "      <div>\n",
              "<style scoped>\n",
              "    .dataframe tbody tr th:only-of-type {\n",
              "        vertical-align: middle;\n",
              "    }\n",
              "\n",
              "    .dataframe tbody tr th {\n",
              "        vertical-align: top;\n",
              "    }\n",
              "\n",
              "    .dataframe thead th {\n",
              "        text-align: right;\n",
              "    }\n",
              "</style>\n",
              "<table border=\"1\" class=\"dataframe\">\n",
              "  <thead>\n",
              "    <tr style=\"text-align: right;\">\n",
              "      <th></th>\n",
              "      <th>tweet_id</th>\n",
              "      <th>class_label</th>\n",
              "      <th>index</th>\n",
              "      <th>Unnamed: 0</th>\n",
              "      <th>followers</th>\n",
              "      <th>following</th>\n",
              "      <th>posts</th>\n",
              "      <th>likes</th>\n",
              "      <th>rts</th>\n",
              "      <th>verified</th>\n",
              "      <th>url</th>\n",
              "    </tr>\n",
              "  </thead>\n",
              "  <tbody>\n",
              "    <tr>\n",
              "      <th>count</th>\n",
              "      <td>7.977000e+03</td>\n",
              "      <td>7977.000000</td>\n",
              "      <td>3400.000000</td>\n",
              "      <td>3400.000000</td>\n",
              "      <td>3.400000e+03</td>\n",
              "      <td>3400.000000</td>\n",
              "      <td>3.400000e+03</td>\n",
              "      <td>3.400000e+03</td>\n",
              "      <td>3400.000000</td>\n",
              "      <td>3400.000000</td>\n",
              "      <td>3400.000000</td>\n",
              "    </tr>\n",
              "    <tr>\n",
              "      <th>mean</th>\n",
              "      <td>1.296357e+18</td>\n",
              "      <td>0.103297</td>\n",
              "      <td>3959.558529</td>\n",
              "      <td>3959.558529</td>\n",
              "      <td>2.540808e+05</td>\n",
              "      <td>1762.334118</td>\n",
              "      <td>4.038205e+04</td>\n",
              "      <td>3.723048e+03</td>\n",
              "      <td>981.495882</td>\n",
              "      <td>0.178824</td>\n",
              "      <td>0.784412</td>\n",
              "    </tr>\n",
              "    <tr>\n",
              "      <th>std</th>\n",
              "      <td>5.594758e+16</td>\n",
              "      <td>0.304365</td>\n",
              "      <td>2346.642067</td>\n",
              "      <td>2346.642067</td>\n",
              "      <td>3.085002e+06</td>\n",
              "      <td>12340.262175</td>\n",
              "      <td>9.647449e+04</td>\n",
              "      <td>4.076424e+04</td>\n",
              "      <td>9656.494816</td>\n",
              "      <td>0.383261</td>\n",
              "      <td>0.411290</td>\n",
              "    </tr>\n",
              "    <tr>\n",
              "      <th>min</th>\n",
              "      <td>1.222318e+18</td>\n",
              "      <td>0.000000</td>\n",
              "      <td>1.000000</td>\n",
              "      <td>1.000000</td>\n",
              "      <td>0.000000e+00</td>\n",
              "      <td>0.000000</td>\n",
              "      <td>0.000000e+00</td>\n",
              "      <td>0.000000e+00</td>\n",
              "      <td>0.000000</td>\n",
              "      <td>0.000000</td>\n",
              "      <td>0.000000</td>\n",
              "    </tr>\n",
              "    <tr>\n",
              "      <th>25%</th>\n",
              "      <td>1.246301e+18</td>\n",
              "      <td>0.000000</td>\n",
              "      <td>1669.500000</td>\n",
              "      <td>1669.500000</td>\n",
              "      <td>1.570000e+02</td>\n",
              "      <td>129.000000</td>\n",
              "      <td>2.068000e+03</td>\n",
              "      <td>0.000000e+00</td>\n",
              "      <td>0.000000</td>\n",
              "      <td>0.000000</td>\n",
              "      <td>1.000000</td>\n",
              "    </tr>\n",
              "    <tr>\n",
              "      <th>50%</th>\n",
              "      <td>1.272203e+18</td>\n",
              "      <td>0.000000</td>\n",
              "      <td>3889.500000</td>\n",
              "      <td>3889.500000</td>\n",
              "      <td>1.177000e+03</td>\n",
              "      <td>512.000000</td>\n",
              "      <td>1.154700e+04</td>\n",
              "      <td>1.000000e+00</td>\n",
              "      <td>1.000000</td>\n",
              "      <td>0.000000</td>\n",
              "      <td>1.000000</td>\n",
              "    </tr>\n",
              "    <tr>\n",
              "      <th>75%</th>\n",
              "      <td>1.368932e+18</td>\n",
              "      <td>0.000000</td>\n",
              "      <td>6261.500000</td>\n",
              "      <td>6261.500000</td>\n",
              "      <td>7.714250e+03</td>\n",
              "      <td>1368.500000</td>\n",
              "      <td>4.007700e+04</td>\n",
              "      <td>8.000000e+00</td>\n",
              "      <td>3.000000</td>\n",
              "      <td>0.000000</td>\n",
              "      <td>1.000000</td>\n",
              "    </tr>\n",
              "    <tr>\n",
              "      <th>max</th>\n",
              "      <td>1.371137e+18</td>\n",
              "      <td>1.000000</td>\n",
              "      <td>7981.000000</td>\n",
              "      <td>7981.000000</td>\n",
              "      <td>1.318626e+08</td>\n",
              "      <td>583436.000000</td>\n",
              "      <td>1.157537e+06</td>\n",
              "      <td>1.364582e+06</td>\n",
              "      <td>294771.000000</td>\n",
              "      <td>1.000000</td>\n",
              "      <td>1.000000</td>\n",
              "    </tr>\n",
              "  </tbody>\n",
              "</table>\n",
              "</div>\n",
              "      <button class=\"colab-df-convert\" onclick=\"convertToInteractive('df-71d15dc4-a394-4ab0-bfc5-30ffe9ac36d6')\"\n",
              "              title=\"Convert this dataframe to an interactive table.\"\n",
              "              style=\"display:none;\">\n",
              "        \n",
              "  <svg xmlns=\"http://www.w3.org/2000/svg\" height=\"24px\"viewBox=\"0 0 24 24\"\n",
              "       width=\"24px\">\n",
              "    <path d=\"M0 0h24v24H0V0z\" fill=\"none\"/>\n",
              "    <path d=\"M18.56 5.44l.94 2.06.94-2.06 2.06-.94-2.06-.94-.94-2.06-.94 2.06-2.06.94zm-11 1L8.5 8.5l.94-2.06 2.06-.94-2.06-.94L8.5 2.5l-.94 2.06-2.06.94zm10 10l.94 2.06.94-2.06 2.06-.94-2.06-.94-.94-2.06-.94 2.06-2.06.94z\"/><path d=\"M17.41 7.96l-1.37-1.37c-.4-.4-.92-.59-1.43-.59-.52 0-1.04.2-1.43.59L10.3 9.45l-7.72 7.72c-.78.78-.78 2.05 0 2.83L4 21.41c.39.39.9.59 1.41.59.51 0 1.02-.2 1.41-.59l7.78-7.78 2.81-2.81c.8-.78.8-2.07 0-2.86zM5.41 20L4 18.59l7.72-7.72 1.47 1.35L5.41 20z\"/>\n",
              "  </svg>\n",
              "      </button>\n",
              "      \n",
              "  <style>\n",
              "    .colab-df-container {\n",
              "      display:flex;\n",
              "      flex-wrap:wrap;\n",
              "      gap: 12px;\n",
              "    }\n",
              "\n",
              "    .colab-df-convert {\n",
              "      background-color: #E8F0FE;\n",
              "      border: none;\n",
              "      border-radius: 50%;\n",
              "      cursor: pointer;\n",
              "      display: none;\n",
              "      fill: #1967D2;\n",
              "      height: 32px;\n",
              "      padding: 0 0 0 0;\n",
              "      width: 32px;\n",
              "    }\n",
              "\n",
              "    .colab-df-convert:hover {\n",
              "      background-color: #E2EBFA;\n",
              "      box-shadow: 0px 1px 2px rgba(60, 64, 67, 0.3), 0px 1px 3px 1px rgba(60, 64, 67, 0.15);\n",
              "      fill: #174EA6;\n",
              "    }\n",
              "\n",
              "    [theme=dark] .colab-df-convert {\n",
              "      background-color: #3B4455;\n",
              "      fill: #D2E3FC;\n",
              "    }\n",
              "\n",
              "    [theme=dark] .colab-df-convert:hover {\n",
              "      background-color: #434B5C;\n",
              "      box-shadow: 0px 1px 3px 1px rgba(0, 0, 0, 0.15);\n",
              "      filter: drop-shadow(0px 1px 2px rgba(0, 0, 0, 0.3));\n",
              "      fill: #FFFFFF;\n",
              "    }\n",
              "  </style>\n",
              "\n",
              "      <script>\n",
              "        const buttonEl =\n",
              "          document.querySelector('#df-71d15dc4-a394-4ab0-bfc5-30ffe9ac36d6 button.colab-df-convert');\n",
              "        buttonEl.style.display =\n",
              "          google.colab.kernel.accessAllowed ? 'block' : 'none';\n",
              "\n",
              "        async function convertToInteractive(key) {\n",
              "          const element = document.querySelector('#df-71d15dc4-a394-4ab0-bfc5-30ffe9ac36d6');\n",
              "          const dataTable =\n",
              "            await google.colab.kernel.invokeFunction('convertToInteractive',\n",
              "                                                     [key], {});\n",
              "          if (!dataTable) return;\n",
              "\n",
              "          const docLinkHtml = 'Like what you see? Visit the ' +\n",
              "            '<a target=\"_blank\" href=https://colab.research.google.com/notebooks/data_table.ipynb>data table notebook</a>'\n",
              "            + ' to learn more about interactive tables.';\n",
              "          element.innerHTML = '';\n",
              "          dataTable['output_type'] = 'display_data';\n",
              "          await google.colab.output.renderOutput(dataTable, element);\n",
              "          const docLink = document.createElement('div');\n",
              "          docLink.innerHTML = docLinkHtml;\n",
              "          element.appendChild(docLink);\n",
              "        }\n",
              "      </script>\n",
              "    </div>\n",
              "  </div>\n",
              "  "
            ],
            "text/plain": [
              "           tweet_id  class_label        index   Unnamed: 0     followers  \\\n",
              "count  7.977000e+03  7977.000000  3400.000000  3400.000000  3.400000e+03   \n",
              "mean   1.296357e+18     0.103297  3959.558529  3959.558529  2.540808e+05   \n",
              "std    5.594758e+16     0.304365  2346.642067  2346.642067  3.085002e+06   \n",
              "min    1.222318e+18     0.000000     1.000000     1.000000  0.000000e+00   \n",
              "25%    1.246301e+18     0.000000  1669.500000  1669.500000  1.570000e+02   \n",
              "50%    1.272203e+18     0.000000  3889.500000  3889.500000  1.177000e+03   \n",
              "75%    1.368932e+18     0.000000  6261.500000  6261.500000  7.714250e+03   \n",
              "max    1.371137e+18     1.000000  7981.000000  7981.000000  1.318626e+08   \n",
              "\n",
              "           following         posts         likes            rts     verified  \\\n",
              "count    3400.000000  3.400000e+03  3.400000e+03    3400.000000  3400.000000   \n",
              "mean     1762.334118  4.038205e+04  3.723048e+03     981.495882     0.178824   \n",
              "std     12340.262175  9.647449e+04  4.076424e+04    9656.494816     0.383261   \n",
              "min         0.000000  0.000000e+00  0.000000e+00       0.000000     0.000000   \n",
              "25%       129.000000  2.068000e+03  0.000000e+00       0.000000     0.000000   \n",
              "50%       512.000000  1.154700e+04  1.000000e+00       1.000000     0.000000   \n",
              "75%      1368.500000  4.007700e+04  8.000000e+00       3.000000     0.000000   \n",
              "max    583436.000000  1.157537e+06  1.364582e+06  294771.000000     1.000000   \n",
              "\n",
              "               url  \n",
              "count  3400.000000  \n",
              "mean      0.784412  \n",
              "std       0.411290  \n",
              "min       0.000000  \n",
              "25%       1.000000  \n",
              "50%       1.000000  \n",
              "75%       1.000000  \n",
              "max       1.000000  "
            ]
          },
          "execution_count": 23,
          "metadata": {},
          "output_type": "execute_result"
        }
      ],
      "source": [
        "xyz.describe()"
      ]
    },
    {
      "cell_type": "code",
      "execution_count": null,
      "metadata": {
        "colab": {
          "base_uri": "https://localhost:8080/",
          "height": 17
        },
        "id": "zi0K8LLbAema",
        "outputId": "b9da37a5-0c2b-41d2-da64-240459ade84b"
      },
      "outputs": [
        {
          "data": {
            "application/javascript": [
              "\n",
              "    async function download(id, filename, size) {\n",
              "      if (!google.colab.kernel.accessAllowed) {\n",
              "        return;\n",
              "      }\n",
              "      const div = document.createElement('div');\n",
              "      const label = document.createElement('label');\n",
              "      label.textContent = `Downloading \"${filename}\": `;\n",
              "      div.appendChild(label);\n",
              "      const progress = document.createElement('progress');\n",
              "      progress.max = size;\n",
              "      div.appendChild(progress);\n",
              "      document.body.appendChild(div);\n",
              "\n",
              "      const buffers = [];\n",
              "      let downloaded = 0;\n",
              "\n",
              "      const channel = await google.colab.kernel.comms.open(id);\n",
              "      // Send a message to notify the kernel that we're ready.\n",
              "      channel.send({})\n",
              "\n",
              "      for await (const message of channel.messages) {\n",
              "        // Send a message to notify the kernel that we're ready.\n",
              "        channel.send({})\n",
              "        if (message.buffers) {\n",
              "          for (const buffer of message.buffers) {\n",
              "            buffers.push(buffer);\n",
              "            downloaded += buffer.byteLength;\n",
              "            progress.value = downloaded;\n",
              "          }\n",
              "        }\n",
              "      }\n",
              "      const blob = new Blob(buffers, {type: 'application/binary'});\n",
              "      const a = document.createElement('a');\n",
              "      a.href = window.URL.createObjectURL(blob);\n",
              "      a.download = filename;\n",
              "      div.appendChild(a);\n",
              "      a.click();\n",
              "      div.remove();\n",
              "    }\n",
              "  "
            ],
            "text/plain": [
              "<IPython.core.display.Javascript object>"
            ]
          },
          "metadata": {},
          "output_type": "display_data"
        },
        {
          "data": {
            "application/javascript": [
              "download(\"download_311c8442-9d65-4eb5-8c4c-01e2a07f43fb\", \"task1ctestraw.csv\", 2007071)"
            ],
            "text/plain": [
              "<IPython.core.display.Javascript object>"
            ]
          },
          "metadata": {},
          "output_type": "display_data"
        }
      ],
      "source": [
        "from google.colab import files\n",
        "files.download('task1ctestraw.csv')"
      ]
    },
    {
      "cell_type": "code",
      "execution_count": null,
      "metadata": {
        "colab": {
          "base_uri": "https://localhost:8080/",
          "height": 165
        },
        "id": "ohOtovs3j2T5",
        "outputId": "8c45a8c0-48ec-4fca-bde7-738980b2ff43"
      },
      "outputs": [
        {
          "ename": "NameError",
          "evalue": "ignored",
          "output_type": "error",
          "traceback": [
            "\u001b[0;31m---------------------------------------------------------------------------\u001b[0m",
            "\u001b[0;31mNameError\u001b[0m                                 Traceback (most recent call last)",
            "\u001b[0;32m<ipython-input-18-ea5d7e39dd60>\u001b[0m in \u001b[0;36m<module>\u001b[0;34m()\u001b[0m\n\u001b[0;32m----> 1\u001b[0;31m \u001b[0merr\u001b[0m\u001b[0;34m\u001b[0m\u001b[0;34m\u001b[0m\u001b[0m\n\u001b[0m",
            "\u001b[0;31mNameError\u001b[0m: name 'err' is not defined"
          ]
        }
      ],
      "source": [
        "err"
      ]
    },
    {
      "cell_type": "code",
      "execution_count": null,
      "metadata": {
        "id": "46htBYdfTe3L"
      },
      "outputs": [],
      "source": [
        "dataset_en_val =  pd.read_csv('CT22_english_1A_checkworthy_dev_test.tsv', delimiter = '\\t')"
      ]
    },
    {
      "cell_type": "code",
      "execution_count": null,
      "metadata": {
        "id": "YsAyOFIjKaSF"
      },
      "outputs": [],
      "source": [
        "dataset_nl.to_csv('xyz.csv')"
      ]
    },
    {
      "cell_type": "code",
      "execution_count": null,
      "metadata": {
        "id": "Sm5x1_ImDNE6"
      },
      "outputs": [],
      "source": [
        "import random\n",
        "num = []\n",
        "cat= []\n",
        "for i in range(len(dataset_en)):\n",
        "  num.append(random.choice([0,1,2,3]))\n",
        "  cat.append(random.choice([0,1]))\n"
      ]
    },
    {
      "cell_type": "code",
      "execution_count": null,
      "metadata": {
        "id": "WprDzjN3DBkI"
      },
      "outputs": [],
      "source": [
        "dataset_en=dataset_en.assign(num=num)"
      ]
    },
    {
      "cell_type": "code",
      "execution_count": null,
      "metadata": {
        "id": "w9TH8-VLLuwQ"
      },
      "outputs": [],
      "source": [
        "dataset_en=dataset_en.assign(cat=cat)"
      ]
    },
    {
      "cell_type": "code",
      "execution_count": null,
      "metadata": {
        "id": "E1gcJgVoLyYM"
      },
      "outputs": [],
      "source": [
        "dataset_en.head()"
      ]
    },
    {
      "cell_type": "code",
      "execution_count": null,
      "metadata": {
        "id": "Y4KR7irnSdzN"
      },
      "outputs": [],
      "source": [
        "dataset_en = pd.read_csv('/content/CT22_english_1A_checkworthy_test.tsv', delimiter='\\t')"
      ]
    },
    {
      "cell_type": "code",
      "execution_count": null,
      "metadata": {
        "id": "N0zbDmqPG5P9"
      },
      "outputs": [],
      "source": [
        "dataset_en.columns"
      ]
    },
    {
      "cell_type": "code",
      "execution_count": null,
      "metadata": {
        "id": "FWAuciLMHAaF"
      },
      "outputs": [],
      "source": [
        "xyz = pd.read_csv('xyz.csv')"
      ]
    },
    {
      "cell_type": "code",
      "execution_count": null,
      "metadata": {
        "id": "GkeqYNZ-HD7C"
      },
      "outputs": [],
      "source": [
        "class_label = xyz['class_label']"
      ]
    },
    {
      "cell_type": "code",
      "execution_count": null,
      "metadata": {
        "id": "8dSMEOH7HGMS"
      },
      "outputs": [],
      "source": [
        "dataset_en = dataset_en.join(class_label)"
      ]
    },
    {
      "cell_type": "markdown",
      "metadata": {
        "id": "Qekztq71CixT"
      },
      "source": [
        "## Cleaning the texts"
      ]
    },
    {
      "cell_type": "code",
      "execution_count": null,
      "metadata": {
        "id": "HTdOeMtqQoKU"
      },
      "outputs": [],
      "source": [
        "import pandas as pd\n",
        "dataset_en = pd.read_csv('/content/CT22_english_1C_harmful_dev.tsv', delimiter='\\t')"
      ]
    },
    {
      "cell_type": "code",
      "execution_count": null,
      "metadata": {
        "id": "34zglOrFPTMz"
      },
      "outputs": [],
      "source": [
        "import re \n",
        "for index_label, row_series in dataset_en.iterrows():\n",
        "  text = dataset_en.at[index_label, 'tweet_text']\n",
        "  # HASHTAGS\n",
        "  text = re.sub(r\"#\\S+\",\"\",text)\n",
        "  # URLS\n",
        "  text = re.sub(r\"(?i)\\b((?:https?://|www\\d{0,3}[.]|[a-z0-9.\\-]+[.][a-z]{2,4}/)(?:[^\\s()<>]+|\\(([^\\s()<>]+|(\\([^\\s()<>]+\\)))*\\))+(?:\\(([^\\s()<>]+|(\\([^\\s()<>]+\\)))*\\)|[^\\s`!()\\[\\]{};:'\\\".,<>?«»“”‘’]))\",\"\",text)\n",
        "  #MENTIONS\n",
        "  text = re.sub(r\"@\\S+\",\"\",text)\n",
        "  # NUMBERS CHANGE eg 30 --> \"number\"\n",
        "  text = re.sub('(?:^|\\s)(?=.)((?:0|(?:[1-9](?:\\d*|\\d{0,2}(?:,\\d{3})*)))?(?:\\.\\d*[1-9])?)(?!\\S)',\" number \",text)\n",
        "  #FORMATTED NUMBER: with decimals/commas\n",
        "  #finally putting it back in its place\n",
        "  dataset_en.at[index_label, 'tweet_text'] = text\n"
      ]
    },
    {
      "cell_type": "code",
      "execution_count": null,
      "metadata": {
        "colab": {
          "base_uri": "https://localhost:8080/"
        },
        "id": "y4GPsgBHZV-C",
        "outputId": "8c6408d6-d24b-478e-dcb4-2399e60c1a37"
      },
      "outputs": [
        {
          "data": {
            "text/plain": [
              "Index(['topic', 'tweet_id', 'tweet_url', 'tweet_text', 'class_label'], dtype='object')"
            ]
          },
          "execution_count": 10,
          "metadata": {},
          "output_type": "execute_result"
        }
      ],
      "source": [
        "dataset_en.columns"
      ]
    },
    {
      "cell_type": "code",
      "execution_count": null,
      "metadata": {
        "id": "mlBqV9lfS0oC"
      },
      "outputs": [],
      "source": [
        "dataset_en.to_csv('task1cvalraw.csv' , index = False)"
      ]
    },
    {
      "cell_type": "code",
      "execution_count": null,
      "metadata": {
        "id": "nswt-4mPIiTc"
      },
      "outputs": [],
      "source": [
        "len(dataset_en)"
      ]
    },
    {
      "cell_type": "code",
      "execution_count": null,
      "metadata": {
        "id": "ojV4U8oZUOF1"
      },
      "outputs": [],
      "source": [
        "dataset_en.head()"
      ]
    },
    {
      "cell_type": "code",
      "execution_count": null,
      "metadata": {
        "id": "phsJB9DZUN0B"
      },
      "outputs": [],
      "source": [
        "import pandas as pd\n",
        "dataset_en = pd.read_csv('task1ctrainfinal.csv')\n",
        "val = pd.read_csv('task1cvalfinal.csv')"
      ]
    },
    {
      "cell_type": "code",
      "execution_count": null,
      "metadata": {
        "id": "l3mGLXeGFxca"
      },
      "outputs": [],
      "source": [
        "!pip install ktrain"
      ]
    },
    {
      "cell_type": "code",
      "execution_count": null,
      "metadata": {
        "colab": {
          "base_uri": "https://localhost:8080/",
          "height": 520
        },
        "id": "JeChZbcZTWzw",
        "outputId": "590eb1a9-e4d2-4b76-a182-7c18b20d67a1"
      },
      "outputs": [
        {
          "name": "stdout",
          "output_type": "stream",
          "text": [
            "['not_class_label', 'class_label']\n",
            "   not_class_label  class_label\n",
            "0              1.0          0.0\n",
            "1              1.0          0.0\n",
            "2              1.0          0.0\n",
            "3              1.0          0.0\n",
            "4              1.0          0.0\n",
            "['not_class_label', 'class_label']\n",
            "   not_class_label  class_label\n",
            "0              1.0          0.0\n",
            "1              1.0          0.0\n",
            "2              1.0          0.0\n",
            "3              1.0          0.0\n",
            "4              1.0          0.0\n",
            "downloading pretrained BERT model (uncased_L-12_H-768_A-12.zip)...\n",
            "[██████████████████████████████████████████████████]\n",
            "extracting pretrained BERT model...\n",
            "done.\n",
            "\n",
            "cleanup downloaded zip...\n",
            "done.\n",
            "\n",
            "preprocessing train...\n",
            "language: en\n"
          ]
        },
        {
          "data": {
            "text/html": [
              "\n",
              "<style>\n",
              "    /* Turns off some styling */\n",
              "    progress {\n",
              "        /* gets rid of default border in Firefox and Opera. */\n",
              "        border: none;\n",
              "        /* Needs to be in here for Safari polyfill so background images work as expected. */\n",
              "        background-size: auto;\n",
              "    }\n",
              "    .progress-bar-interrupted, .progress-bar-interrupted::-webkit-progress-bar {\n",
              "        background: #F44336;\n",
              "    }\n",
              "</style>\n"
            ],
            "text/plain": [
              "<IPython.core.display.HTML object>"
            ]
          },
          "metadata": {},
          "output_type": "display_data"
        },
        {
          "data": {
            "text/html": [
              "done."
            ],
            "text/plain": [
              "<IPython.core.display.HTML object>"
            ]
          },
          "metadata": {},
          "output_type": "display_data"
        },
        {
          "name": "stdout",
          "output_type": "stream",
          "text": [
            "Is Multi-Label? False\n",
            "preprocessing test...\n",
            "language: en\n"
          ]
        },
        {
          "data": {
            "text/html": [
              "\n",
              "<style>\n",
              "    /* Turns off some styling */\n",
              "    progress {\n",
              "        /* gets rid of default border in Firefox and Opera. */\n",
              "        border: none;\n",
              "        /* Needs to be in here for Safari polyfill so background images work as expected. */\n",
              "        background-size: auto;\n",
              "    }\n",
              "    .progress-bar-interrupted, .progress-bar-interrupted::-webkit-progress-bar {\n",
              "        background: #F44336;\n",
              "    }\n",
              "</style>\n"
            ],
            "text/plain": [
              "<IPython.core.display.HTML object>"
            ]
          },
          "metadata": {},
          "output_type": "display_data"
        },
        {
          "data": {
            "text/html": [
              "done."
            ],
            "text/plain": [
              "<IPython.core.display.HTML object>"
            ]
          },
          "metadata": {},
          "output_type": "display_data"
        }
      ],
      "source": [
        "from ktrain import text as text\n",
        "\n",
        "(x_train, y_train), (x_test, y_test), preproc = text.texts_from_df(train_df=dataset_en,\n",
        "                                                                   val_df=val,\n",
        "                                                                   text_column = 'tweet_text',\n",
        "                                                                   label_columns = 'class_label',\n",
        "                                                              \n",
        "                                                                   maxlen = 128,\n",
        "                                                                   preprocess_mode = 'bert')"
      ]
    },
    {
      "cell_type": "code",
      "execution_count": null,
      "metadata": {
        "colab": {
          "base_uri": "https://localhost:8080/"
        },
        "id": "HFY7dw4-UEAU",
        "outputId": "4ba0c63b-4a61-47fe-e14d-f7b6d5cab757"
      },
      "outputs": [
        {
          "name": "stdout",
          "output_type": "stream",
          "text": [
            "Is Multi-Label? False\n",
            "maxlen is 128\n",
            "done.\n"
          ]
        }
      ],
      "source": [
        "model = text.text_classifier(name='bert',\n",
        "                             train_data=(x_train, y_train),\n",
        "                             preproc=preproc)"
      ]
    },
    {
      "cell_type": "code",
      "execution_count": null,
      "metadata": {
        "id": "ePlQ-rKwUIkT"
      },
      "outputs": [],
      "source": [
        "import ktrain\n",
        "learner = ktrain.get_learner(model=model,\n",
        "                             train_data=(x_train, y_train),\n",
        "                             batch_size=8)"
      ]
    },
    {
      "cell_type": "code",
      "execution_count": null,
      "metadata": {
        "colab": {
          "background_save": true,
          "base_uri": "https://localhost:8080/"
        },
        "id": "TxxwYk1yUKpJ",
        "outputId": "570ecb89-6307-4d40-8d5e-5eaf1a02cc99"
      },
      "outputs": [
        {
          "name": "stdout",
          "output_type": "stream",
          "text": [
            "\n",
            "\n",
            "begin training using onecycle policy with max lr of 3e-05...\n",
            "366/997 [==========>...................] - ETA: 1:42:31 - loss: 0.7863 - accuracy: 0.8132"
          ]
        }
      ],
      "source": [
        "learner.fit_onecycle(lr=3e-5,epochs=1, class_weight={0:1, 1:4})"
      ]
    },
    {
      "cell_type": "code",
      "execution_count": null,
      "metadata": {
        "id": "YNQqBWCgLZgy"
      },
      "outputs": [],
      "source": [
        "val = pd.read_csv('/content/task1ctestfinal.csv')"
      ]
    },
    {
      "cell_type": "code",
      "execution_count": null,
      "metadata": {
        "id": "cwffg_wZUPg4"
      },
      "outputs": [],
      "source": [
        "predictor = ktrain.get_predictor(learner.model, preproc)"
      ]
    },
    {
      "cell_type": "code",
      "execution_count": null,
      "metadata": {
        "id": "2yyaaQNmKHSF"
      },
      "outputs": [],
      "source": [
        "import numpy as np"
      ]
    },
    {
      "cell_type": "code",
      "execution_count": null,
      "metadata": {
        "id": "nygbdmj3VMJL"
      },
      "outputs": [],
      "source": [
        "y_predict = predictor.predict(np.asarray(val['tweet_text']))"
      ]
    },
    {
      "cell_type": "code",
      "execution_count": null,
      "metadata": {
        "id": "rlnrO3hTVp1A"
      },
      "outputs": [],
      "source": [
        "for i in range(0,len(y_predict)):\n",
        "  y_predict[i]= 0 if y_predict[i]=='not_class_label' else 1"
      ]
    },
    {
      "cell_type": "code",
      "execution_count": null,
      "metadata": {
        "id": "HIf4vstvZhRu"
      },
      "outputs": [],
      "source": [
        "y_predict = np.asarray(y_predict)"
      ]
    },
    {
      "cell_type": "code",
      "execution_count": null,
      "metadata": {
        "id": "zR1R7-k6ZkDL"
      },
      "outputs": [],
      "source": [
        "y_test = np.asarray(val['class_label']).reshape(251)"
      ]
    },
    {
      "cell_type": "code",
      "execution_count": null,
      "metadata": {
        "colab": {
          "base_uri": "https://localhost:8080/"
        },
        "id": "pDxKGvdnZrcP",
        "outputId": "0e27e123-7c36-463a-f4c5-6c38b57ad423"
      },
      "outputs": [
        {
          "name": "stdout",
          "output_type": "stream",
          "text": [
            "[0 0 0 1 0 0 0 0 0 0 0 0 0 0 0 0 1 0 0 0 0 1 0 0 0 0 0 0 0 0 0 0 1 0 1 0 0\n",
            " 0 1 1 1 0 0 0 0 0 1 0 1 0 1 0 1 0 0 0 0 0 0 0 1 0 1 1 1 0 1 0 0 0 0 0 1 0\n",
            " 0 0 0 1 1 0 1 0 1 0 0 0 0 1 0 0 0 0 0 0 0 1 0 0 1 1 0 0 0 0 0 1 1 1 0 0 0\n",
            " 1 0 1 1 1 1 0 0 1 0 1 0 0 0 0 0 0 1 0 0 1 0 1 0 0 1 0 1 0 0 0 1 1 0 1 0 1\n",
            " 0 0 0 1 0 0 1 0 1 0 0 0 1 1 1 0 0 0 0 0 1 0 0 0 1 0 1 1 0 0 0 0 1 0 0 0 1\n",
            " 0 0 0 0 0 1 0 0 0 0 0 0 0 1 0 1 0 1 1 1 0 1 1 1 0 0 0 1 1 0 0 1 0 1 1 0 0\n",
            " 0 0 1 0 0 1 1 1 0 0 0 0 1 1 1 1 0 0 0 1 0 0 0 1 0 0 0 1 0]\n"
          ]
        }
      ],
      "source": [
        "print(y_predict)"
      ]
    },
    {
      "cell_type": "code",
      "execution_count": null,
      "metadata": {
        "id": "gHuG5POSaJWc"
      },
      "outputs": [],
      "source": [
        "from sklearn.metrics import confusion_matrix, accuracy_score, f1_score\n",
        "cm = confusion_matrix(y_test, y_predict)\n",
        "print(cm)\n",
        "f1 = f1_score(y_test,y_predict)\n",
        "print(f1)\n",
        "accuracy_score(y_test, y_predict)"
      ]
    },
    {
      "cell_type": "code",
      "execution_count": null,
      "metadata": {
        "id": "wJl6Htq7LnCf"
      },
      "outputs": [],
      "source": [
        "val = val.drop(['Unnamed: 0'], axis=1)"
      ]
    },
    {
      "cell_type": "code",
      "execution_count": null,
      "metadata": {
        "colab": {
          "base_uri": "https://localhost:8080/"
        },
        "id": "6khyzoCmMgM7",
        "outputId": "442673e3-4fd9-4436-9b9b-e3bc13335c7d"
      },
      "outputs": [
        {
          "data": {
            "text/plain": [
              "Index(['topic', 'tweet_id', 'class_label'], dtype='object')"
            ]
          },
          "execution_count": 31,
          "metadata": {},
          "output_type": "execute_result"
        }
      ],
      "source": [
        "val.columns"
      ]
    },
    {
      "cell_type": "code",
      "execution_count": null,
      "metadata": {
        "id": "DBT_PxfsMrm-"
      },
      "outputs": [],
      "source": [
        "val = val.assign(class_label=y_predict)"
      ]
    },
    {
      "cell_type": "code",
      "execution_count": null,
      "metadata": {
        "id": "LMEJuR9MMwTd"
      },
      "outputs": [],
      "source": [
        "run_id = []\n",
        "for i in range(len(val)):\n",
        "  run_id.append(\"6MayMultimodalBERT\")"
      ]
    },
    {
      "cell_type": "code",
      "execution_count": null,
      "metadata": {
        "id": "IpG5cmOtM20F"
      },
      "outputs": [],
      "source": [
        "val = val.assign(run_id=run_id)"
      ]
    },
    {
      "cell_type": "code",
      "execution_count": null,
      "metadata": {
        "id": "nTpo7lqYM6G7"
      },
      "outputs": [],
      "source": [
        "val.to_csv('subtask1C_harmful_english.tsv', sep=\"\\t\", index=False)"
      ]
    },
    {
      "cell_type": "code",
      "execution_count": null,
      "metadata": {
        "colab": {
          "base_uri": "https://localhost:8080/"
        },
        "id": "eeusadYjNCRx",
        "outputId": "55ea9a07-d161-4968-9858-30c2e86c5363"
      },
      "outputs": [
        {
          "name": "stdout",
          "output_type": "stream",
          "text": [
            "  adding: subtask1C_harmful_english.tsv (deflated 77%)\n"
          ]
        }
      ],
      "source": [
        "!zip subtask1C_harmful_english.zip subtask1C_harmful_english.tsv"
      ]
    },
    {
      "cell_type": "code",
      "execution_count": null,
      "metadata": {
        "id": "hWmavH3lUR9Y"
      },
      "outputs": [],
      "source": [
        "err"
      ]
    },
    {
      "cell_type": "code",
      "execution_count": null,
      "metadata": {
        "id": "GEMuxLHhdDEn"
      },
      "outputs": [],
      "source": [
        "import re \n",
        "import nltk\n",
        "nltk.download('stopwords')\n",
        "from nltk.corpus import stopwords\n",
        "from nltk.stem.porter import PorterStemmer\n",
        "corpus = []\n",
        "all_stopwords = set(stopwords.words('english'))\n",
        "all_stopwords.remove('not')\n",
        "for i in range(0,1000):\n",
        "  review = re.sub('[^a-zA-Z]' , ' ', dataset['Review'][i])\n",
        "  review = review.lower()\n",
        "  review = review.split()\n",
        "  # ps = PorterStemmer()\n",
        "  # review = [ps.stem(word) for word in review if not word in all_stopwords ]\n",
        "  review = ' '.join(review)\n",
        "  corpus.append(review)\n"
      ]
    },
    {
      "cell_type": "code",
      "execution_count": null,
      "metadata": {
        "id": "EGcltrgjWLp4"
      },
      "outputs": [],
      "source": [
        "err"
      ]
    },
    {
      "cell_type": "code",
      "execution_count": null,
      "metadata": {
        "id": "QL5KNeXZldA2"
      },
      "outputs": [],
      "source": [
        "from sklearn.model_selection import train_test_split\n",
        "X_train, X_test, y_train, y_test = train_test_split(X, y, test_size = 0.2, random_state = 0)"
      ]
    },
    {
      "cell_type": "code",
      "execution_count": null,
      "metadata": {
        "id": "rPeCm_Ao6rkH"
      },
      "outputs": [],
      "source": [
        "import keras as keras\n",
        "import tensorflow as tf\n",
        "\n",
        "tokenizer=tf.keras.preprocessing.text.Tokenizer()\n",
        "tokenizer.fit_on_texts(X_train)"
      ]
    },
    {
      "cell_type": "code",
      "execution_count": null,
      "metadata": {
        "id": "vPu1ZGod8ejx"
      },
      "outputs": [],
      "source": [
        "encoded_docs = tokenizer.texts_to_sequences(X_train)"
      ]
    },
    {
      "cell_type": "code",
      "execution_count": null,
      "metadata": {
        "id": "SCWJAGuY8lR_"
      },
      "outputs": [],
      "source": [
        "max_length = max([len(s.split()) for s in X_train])\n",
        "X_train = tf.keras.preprocessing.sequence.pad_sequences(encoded_docs, maxlen=max_length, padding='post')"
      ]
    },
    {
      "cell_type": "code",
      "execution_count": null,
      "metadata": {
        "id": "UejsWzmt-E0j"
      },
      "outputs": [],
      "source": [
        "print(X_train)"
      ]
    },
    {
      "cell_type": "code",
      "execution_count": null,
      "metadata": {
        "id": "7kQrqAOJ9SrE"
      },
      "outputs": [],
      "source": [
        "encoded_docs = tokenizer.texts_to_sequences(X_test)\n",
        "X_test = tf.keras.preprocessing.sequence.pad_sequences(encoded_docs, maxlen=max_length, padding='post')"
      ]
    },
    {
      "cell_type": "code",
      "execution_count": null,
      "metadata": {
        "id": "HUKJr_Uz-Nh2"
      },
      "outputs": [],
      "source": [
        "vocab_size = len(tokenizer.word_index) + 1"
      ]
    },
    {
      "cell_type": "markdown",
      "metadata": {
        "id": "VkIq23vEDIPt"
      },
      "source": [
        "## Training the CNN on the Training set"
      ]
    },
    {
      "cell_type": "code",
      "execution_count": null,
      "metadata": {
        "id": "3fFRwrgwlfKH"
      },
      "outputs": [],
      "source": [
        "model = tf.keras.models.Sequential()\n",
        "model.add(tf.keras.layers.Embedding(vocab_size, 100, input_length=max_length))\n",
        "model.add(tf.keras.layers.Conv1D(filters=32, kernel_size=8, activation='relu'))\n",
        "model.add(tf.keras.layers.MaxPooling1D(pool_size=2))\n",
        "model.add(tf.keras.layers.Flatten())\n",
        "model.add(tf.keras.layers.Dense(10, activation='relu'))\n",
        "model.add(tf.keras.layers.Dense(1, activation='sigmoid'))\n",
        "print(model.summary())"
      ]
    },
    {
      "cell_type": "code",
      "execution_count": null,
      "metadata": {
        "id": "Y0PaBr4-AFRt"
      },
      "outputs": [],
      "source": [
        "\n",
        "model.compile(loss='binary_crossentropy', optimizer='adam', metrics=['accuracy'])\n"
      ]
    },
    {
      "cell_type": "code",
      "execution_count": null,
      "metadata": {
        "id": "nlJXbuwh_Aqr"
      },
      "outputs": [],
      "source": [
        "model.fit(X_train, y_train, epochs=100)"
      ]
    },
    {
      "cell_type": "markdown",
      "metadata": {
        "id": "1JaRM7zXDWUy"
      },
      "source": [
        "## Predicting the Test set results"
      ]
    },
    {
      "cell_type": "code",
      "execution_count": null,
      "metadata": {
        "id": "5L_1p9wrlkIK"
      },
      "outputs": [],
      "source": [
        "y_pred = model.predict(X_test)\n",
        "y_pred = (y_pred > 0.5)\n",
        "print(np.concatenate((y_pred.reshape(len(y_pred),1), y_test.reshape(len(y_test),1)),1))"
      ]
    },
    {
      "cell_type": "markdown",
      "metadata": {
        "id": "xoMltea5Dir1"
      },
      "source": [
        "## Making the Confusion Matrix"
      ]
    },
    {
      "cell_type": "code",
      "execution_count": null,
      "metadata": {
        "id": "CW2Siofllrkm"
      },
      "outputs": [],
      "source": [
        "from sklearn.metrics import confusion_matrix, accuracy_score\n",
        "cm = confusion_matrix(y_test, y_pred)\n",
        "print(cm)\n",
        "accuracy_score(y_test, y_pred)"
      ]
    }
  ],
  "metadata": {
    "accelerator": "GPU",
    "colab": {
      "collapsed_sections": [],
      "name": "CheckThat Asatya",
      "provenance": [],
      "include_colab_link": true
    },
    "kernelspec": {
      "display_name": "Python 3",
      "name": "python3"
    }
  },
  "nbformat": 4,
  "nbformat_minor": 0
}